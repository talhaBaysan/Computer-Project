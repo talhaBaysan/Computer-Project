{
  "nbformat": 4,
  "nbformat_minor": 0,
  "metadata": {
    "colab": {
      "provenance": [],
      "machine_shape": "hm",
      "gpuType": "T4"
    },
    "kernelspec": {
      "name": "python3",
      "display_name": "Python 3"
    },
    "language_info": {
      "name": "python"
    },
    "widgets": {
      "application/vnd.jupyter.widget-state+json": {
        "140a2601f7354b30811f858526fad1bc": {
          "model_module": "@jupyter-widgets/controls",
          "model_name": "HBoxModel",
          "model_module_version": "1.5.0",
          "state": {
            "_dom_classes": [],
            "_model_module": "@jupyter-widgets/controls",
            "_model_module_version": "1.5.0",
            "_model_name": "HBoxModel",
            "_view_count": null,
            "_view_module": "@jupyter-widgets/controls",
            "_view_module_version": "1.5.0",
            "_view_name": "HBoxView",
            "box_style": "",
            "children": [
              "IPY_MODEL_fd0b14742f504db1bb7958a2e86ebaa2",
              "IPY_MODEL_9ef42e6ea1884db49d747e7811517769",
              "IPY_MODEL_d275fa19e9ee467a8b78554491273ab0"
            ],
            "layout": "IPY_MODEL_aa49386e348c406f81da5b4c08f644f3"
          }
        },
        "fd0b14742f504db1bb7958a2e86ebaa2": {
          "model_module": "@jupyter-widgets/controls",
          "model_name": "HTMLModel",
          "model_module_version": "1.5.0",
          "state": {
            "_dom_classes": [],
            "_model_module": "@jupyter-widgets/controls",
            "_model_module_version": "1.5.0",
            "_model_name": "HTMLModel",
            "_view_count": null,
            "_view_module": "@jupyter-widgets/controls",
            "_view_module_version": "1.5.0",
            "_view_name": "HTMLView",
            "description": "",
            "description_tooltip": null,
            "layout": "IPY_MODEL_4a9728a1913f4f799e30148887b718d6",
            "placeholder": "​",
            "style": "IPY_MODEL_8e149a44baa54674948a8614b075be76",
            "value": "100%"
          }
        },
        "9ef42e6ea1884db49d747e7811517769": {
          "model_module": "@jupyter-widgets/controls",
          "model_name": "FloatProgressModel",
          "model_module_version": "1.5.0",
          "state": {
            "_dom_classes": [],
            "_model_module": "@jupyter-widgets/controls",
            "_model_module_version": "1.5.0",
            "_model_name": "FloatProgressModel",
            "_view_count": null,
            "_view_module": "@jupyter-widgets/controls",
            "_view_module_version": "1.5.0",
            "_view_name": "ProgressView",
            "bar_style": "success",
            "description": "",
            "description_tooltip": null,
            "layout": "IPY_MODEL_4f2bdd0c260946a1887c928158d82042",
            "max": 210,
            "min": 0,
            "orientation": "horizontal",
            "style": "IPY_MODEL_e2be9788aa1f470d961d4402f577ad79",
            "value": 210
          }
        },
        "d275fa19e9ee467a8b78554491273ab0": {
          "model_module": "@jupyter-widgets/controls",
          "model_name": "HTMLModel",
          "model_module_version": "1.5.0",
          "state": {
            "_dom_classes": [],
            "_model_module": "@jupyter-widgets/controls",
            "_model_module_version": "1.5.0",
            "_model_name": "HTMLModel",
            "_view_count": null,
            "_view_module": "@jupyter-widgets/controls",
            "_view_module_version": "1.5.0",
            "_view_name": "HTMLView",
            "description": "",
            "description_tooltip": null,
            "layout": "IPY_MODEL_d1f1ad51760946f294edb7c5115deb28",
            "placeholder": "​",
            "style": "IPY_MODEL_e819aebe2b9d4c66878d7771ec39909c",
            "value": " 210/210 [02:21&lt;00:00,  1.32it/s]"
          }
        },
        "aa49386e348c406f81da5b4c08f644f3": {
          "model_module": "@jupyter-widgets/base",
          "model_name": "LayoutModel",
          "model_module_version": "1.2.0",
          "state": {
            "_model_module": "@jupyter-widgets/base",
            "_model_module_version": "1.2.0",
            "_model_name": "LayoutModel",
            "_view_count": null,
            "_view_module": "@jupyter-widgets/base",
            "_view_module_version": "1.2.0",
            "_view_name": "LayoutView",
            "align_content": null,
            "align_items": null,
            "align_self": null,
            "border": null,
            "bottom": null,
            "display": null,
            "flex": null,
            "flex_flow": null,
            "grid_area": null,
            "grid_auto_columns": null,
            "grid_auto_flow": null,
            "grid_auto_rows": null,
            "grid_column": null,
            "grid_gap": null,
            "grid_row": null,
            "grid_template_areas": null,
            "grid_template_columns": null,
            "grid_template_rows": null,
            "height": null,
            "justify_content": null,
            "justify_items": null,
            "left": null,
            "margin": null,
            "max_height": null,
            "max_width": null,
            "min_height": null,
            "min_width": null,
            "object_fit": null,
            "object_position": null,
            "order": null,
            "overflow": null,
            "overflow_x": null,
            "overflow_y": null,
            "padding": null,
            "right": null,
            "top": null,
            "visibility": null,
            "width": null
          }
        },
        "4a9728a1913f4f799e30148887b718d6": {
          "model_module": "@jupyter-widgets/base",
          "model_name": "LayoutModel",
          "model_module_version": "1.2.0",
          "state": {
            "_model_module": "@jupyter-widgets/base",
            "_model_module_version": "1.2.0",
            "_model_name": "LayoutModel",
            "_view_count": null,
            "_view_module": "@jupyter-widgets/base",
            "_view_module_version": "1.2.0",
            "_view_name": "LayoutView",
            "align_content": null,
            "align_items": null,
            "align_self": null,
            "border": null,
            "bottom": null,
            "display": null,
            "flex": null,
            "flex_flow": null,
            "grid_area": null,
            "grid_auto_columns": null,
            "grid_auto_flow": null,
            "grid_auto_rows": null,
            "grid_column": null,
            "grid_gap": null,
            "grid_row": null,
            "grid_template_areas": null,
            "grid_template_columns": null,
            "grid_template_rows": null,
            "height": null,
            "justify_content": null,
            "justify_items": null,
            "left": null,
            "margin": null,
            "max_height": null,
            "max_width": null,
            "min_height": null,
            "min_width": null,
            "object_fit": null,
            "object_position": null,
            "order": null,
            "overflow": null,
            "overflow_x": null,
            "overflow_y": null,
            "padding": null,
            "right": null,
            "top": null,
            "visibility": null,
            "width": null
          }
        },
        "8e149a44baa54674948a8614b075be76": {
          "model_module": "@jupyter-widgets/controls",
          "model_name": "DescriptionStyleModel",
          "model_module_version": "1.5.0",
          "state": {
            "_model_module": "@jupyter-widgets/controls",
            "_model_module_version": "1.5.0",
            "_model_name": "DescriptionStyleModel",
            "_view_count": null,
            "_view_module": "@jupyter-widgets/base",
            "_view_module_version": "1.2.0",
            "_view_name": "StyleView",
            "description_width": ""
          }
        },
        "4f2bdd0c260946a1887c928158d82042": {
          "model_module": "@jupyter-widgets/base",
          "model_name": "LayoutModel",
          "model_module_version": "1.2.0",
          "state": {
            "_model_module": "@jupyter-widgets/base",
            "_model_module_version": "1.2.0",
            "_model_name": "LayoutModel",
            "_view_count": null,
            "_view_module": "@jupyter-widgets/base",
            "_view_module_version": "1.2.0",
            "_view_name": "LayoutView",
            "align_content": null,
            "align_items": null,
            "align_self": null,
            "border": null,
            "bottom": null,
            "display": null,
            "flex": null,
            "flex_flow": null,
            "grid_area": null,
            "grid_auto_columns": null,
            "grid_auto_flow": null,
            "grid_auto_rows": null,
            "grid_column": null,
            "grid_gap": null,
            "grid_row": null,
            "grid_template_areas": null,
            "grid_template_columns": null,
            "grid_template_rows": null,
            "height": null,
            "justify_content": null,
            "justify_items": null,
            "left": null,
            "margin": null,
            "max_height": null,
            "max_width": null,
            "min_height": null,
            "min_width": null,
            "object_fit": null,
            "object_position": null,
            "order": null,
            "overflow": null,
            "overflow_x": null,
            "overflow_y": null,
            "padding": null,
            "right": null,
            "top": null,
            "visibility": null,
            "width": null
          }
        },
        "e2be9788aa1f470d961d4402f577ad79": {
          "model_module": "@jupyter-widgets/controls",
          "model_name": "ProgressStyleModel",
          "model_module_version": "1.5.0",
          "state": {
            "_model_module": "@jupyter-widgets/controls",
            "_model_module_version": "1.5.0",
            "_model_name": "ProgressStyleModel",
            "_view_count": null,
            "_view_module": "@jupyter-widgets/base",
            "_view_module_version": "1.2.0",
            "_view_name": "StyleView",
            "bar_color": null,
            "description_width": ""
          }
        },
        "d1f1ad51760946f294edb7c5115deb28": {
          "model_module": "@jupyter-widgets/base",
          "model_name": "LayoutModel",
          "model_module_version": "1.2.0",
          "state": {
            "_model_module": "@jupyter-widgets/base",
            "_model_module_version": "1.2.0",
            "_model_name": "LayoutModel",
            "_view_count": null,
            "_view_module": "@jupyter-widgets/base",
            "_view_module_version": "1.2.0",
            "_view_name": "LayoutView",
            "align_content": null,
            "align_items": null,
            "align_self": null,
            "border": null,
            "bottom": null,
            "display": null,
            "flex": null,
            "flex_flow": null,
            "grid_area": null,
            "grid_auto_columns": null,
            "grid_auto_flow": null,
            "grid_auto_rows": null,
            "grid_column": null,
            "grid_gap": null,
            "grid_row": null,
            "grid_template_areas": null,
            "grid_template_columns": null,
            "grid_template_rows": null,
            "height": null,
            "justify_content": null,
            "justify_items": null,
            "left": null,
            "margin": null,
            "max_height": null,
            "max_width": null,
            "min_height": null,
            "min_width": null,
            "object_fit": null,
            "object_position": null,
            "order": null,
            "overflow": null,
            "overflow_x": null,
            "overflow_y": null,
            "padding": null,
            "right": null,
            "top": null,
            "visibility": null,
            "width": null
          }
        },
        "e819aebe2b9d4c66878d7771ec39909c": {
          "model_module": "@jupyter-widgets/controls",
          "model_name": "DescriptionStyleModel",
          "model_module_version": "1.5.0",
          "state": {
            "_model_module": "@jupyter-widgets/controls",
            "_model_module_version": "1.5.0",
            "_model_name": "DescriptionStyleModel",
            "_view_count": null,
            "_view_module": "@jupyter-widgets/base",
            "_view_module_version": "1.2.0",
            "_view_name": "StyleView",
            "description_width": ""
          }
        }
      }
    },
    "accelerator": "GPU"
  },
  "cells": [
    {
      "cell_type": "code",
      "execution_count": null,
      "metadata": {
        "id": "v5CoUhQeOAvh"
      },
      "outputs": [],
      "source": [
        "import os\n",
        "import pickle\n",
        "import numpy as np\n",
        "from tqdm.notebook import tqdm\n",
        "from tensorflow.keras.applications.vgg16 import VGG16, preprocess_input\n",
        "from tensorflow.keras.preprocessing.image import load_img, img_to_array\n",
        "from tensorflow.keras.preprocessing.text import Tokenizer\n",
        "from tensorflow.keras.preprocessing.sequence import pad_sequences\n",
        "from tensorflow.keras.models import Model\n",
        "from tensorflow.keras.utils import to_categorical, plot_model\n",
        "from tensorflow.keras.layers import Input, Dense, LSTM, Embedding, Dropout, add\n",
        "import keras"
      ]
    },
    {
      "cell_type": "code",
      "source": [
        "from google.colab import drive\n",
        "drive.mount('/content/drive/')"
      ],
      "metadata": {
        "colab": {
          "base_uri": "https://localhost:8080/"
        },
        "id": "n8oxw6jROLjS",
        "outputId": "be007fd5-3736-4dfd-9c57-af44687de2d9"
      },
      "execution_count": null,
      "outputs": [
        {
          "output_type": "stream",
          "name": "stdout",
          "text": [
            "Drive already mounted at /content/drive/; to attempt to forcibly remount, call drive.mount(\"/content/drive/\", force_remount=True).\n"
          ]
        }
      ]
    },
    {
      "cell_type": "code",
      "source": [
        "BASE_DIR = '/content/drive/MyDrive/Colab Notebooks/UGM'\n",
        "WORKING_DIR = '/content/drive/MyDrive/Working'"
      ],
      "metadata": {
        "id": "0NBcchhjONcl"
      },
      "execution_count": null,
      "outputs": []
    },
    {
      "cell_type": "code",
      "source": [
        "model = VGG16()\n",
        "model = Model(inputs=model.inputs, outputs=model.layers[-2].output)\n",
        "print(model.summary())"
      ],
      "metadata": {
        "colab": {
          "base_uri": "https://localhost:8080/"
        },
        "id": "zngwvJ-uOdf8",
        "outputId": "9b2ac6dc-28f5-4b13-a50f-8ef1289d7cd3"
      },
      "execution_count": null,
      "outputs": [
        {
          "output_type": "stream",
          "name": "stdout",
          "text": [
            "Downloading data from https://storage.googleapis.com/tensorflow/keras-applications/vgg16/vgg16_weights_tf_dim_ordering_tf_kernels.h5\n",
            "553467096/553467096 [==============================] - 25s 0us/step\n",
            "Model: \"model\"\n",
            "_________________________________________________________________\n",
            " Layer (type)                Output Shape              Param #   \n",
            "=================================================================\n",
            " input_1 (InputLayer)        [(None, 224, 224, 3)]     0         \n",
            "                                                                 \n",
            " block1_conv1 (Conv2D)       (None, 224, 224, 64)      1792      \n",
            "                                                                 \n",
            " block1_conv2 (Conv2D)       (None, 224, 224, 64)      36928     \n",
            "                                                                 \n",
            " block1_pool (MaxPooling2D)  (None, 112, 112, 64)      0         \n",
            "                                                                 \n",
            " block2_conv1 (Conv2D)       (None, 112, 112, 128)     73856     \n",
            "                                                                 \n",
            " block2_conv2 (Conv2D)       (None, 112, 112, 128)     147584    \n",
            "                                                                 \n",
            " block2_pool (MaxPooling2D)  (None, 56, 56, 128)       0         \n",
            "                                                                 \n",
            " block3_conv1 (Conv2D)       (None, 56, 56, 256)       295168    \n",
            "                                                                 \n",
            " block3_conv2 (Conv2D)       (None, 56, 56, 256)       590080    \n",
            "                                                                 \n",
            " block3_conv3 (Conv2D)       (None, 56, 56, 256)       590080    \n",
            "                                                                 \n",
            " block3_pool (MaxPooling2D)  (None, 28, 28, 256)       0         \n",
            "                                                                 \n",
            " block4_conv1 (Conv2D)       (None, 28, 28, 512)       1180160   \n",
            "                                                                 \n",
            " block4_conv2 (Conv2D)       (None, 28, 28, 512)       2359808   \n",
            "                                                                 \n",
            " block4_conv3 (Conv2D)       (None, 28, 28, 512)       2359808   \n",
            "                                                                 \n",
            " block4_pool (MaxPooling2D)  (None, 14, 14, 512)       0         \n",
            "                                                                 \n",
            " block5_conv1 (Conv2D)       (None, 14, 14, 512)       2359808   \n",
            "                                                                 \n",
            " block5_conv2 (Conv2D)       (None, 14, 14, 512)       2359808   \n",
            "                                                                 \n",
            " block5_conv3 (Conv2D)       (None, 14, 14, 512)       2359808   \n",
            "                                                                 \n",
            " block5_pool (MaxPooling2D)  (None, 7, 7, 512)         0         \n",
            "                                                                 \n",
            " flatten (Flatten)           (None, 25088)             0         \n",
            "                                                                 \n",
            " fc1 (Dense)                 (None, 4096)              102764544 \n",
            "                                                                 \n",
            " fc2 (Dense)                 (None, 4096)              16781312  \n",
            "                                                                 \n",
            "=================================================================\n",
            "Total params: 134,260,544\n",
            "Trainable params: 134,260,544\n",
            "Non-trainable params: 0\n",
            "_________________________________________________________________\n",
            "None\n"
          ]
        }
      ]
    },
    {
      "cell_type": "code",
      "source": [
        "# extract features from image\n",
        "features = {}\n",
        "directory = os.path.join(BASE_DIR, 'imgs')\n",
        "\n",
        "for img_name in tqdm(os.listdir(directory)):\n",
        "    # load the image from file\n",
        "    img_path = directory + '/' + img_name\n",
        "    image = load_img(img_path, target_size=(224, 224))\n",
        "    # convert image pixels to numpy array\n",
        "    image = img_to_array(image)\n",
        "    # reshape data for model\n",
        "    image = image.reshape((1, image.shape[0], image.shape[1], image.shape[2]))\n",
        "    # preprocess image for vgg\n",
        "    image = preprocess_input(image)\n",
        "    # extract features\n",
        "    feature = model.predict(image, verbose=0)\n",
        "    # get image ID\n",
        "    image_id = img_name.split('.')[0]\n",
        "    # store feature\n",
        "    features[image_id] = feature"
      ],
      "metadata": {
        "id": "HKnh8KWdOfZL"
      },
      "execution_count": null,
      "outputs": []
    },
    {
      "cell_type": "code",
      "source": [
        "# store features in pickle\n",
        "pickle.dump(features, open(os.path.join(WORKING_DIR, 'featuresVGG16.pkl'), 'wb'))"
      ],
      "metadata": {
        "id": "EHJU8MEHOiGj"
      },
      "execution_count": null,
      "outputs": []
    },
    {
      "cell_type": "code",
      "source": [
        "# load features from pickle\n",
        "with open(os.path.join(WORKING_DIR, 'features.pkl'), 'rb') as f:\n",
        "    features = pickle.load(f)"
      ],
      "metadata": {
        "id": "F1gWXW5hOk-J"
      },
      "execution_count": null,
      "outputs": []
    },
    {
      "cell_type": "code",
      "source": [
        "import json\n",
        "with open(os.path.join(BASE_DIR, 'dataset.json'), 'r') as f:\n",
        "    #next(f)\n",
        "    captions_doc = json.load(f)\n",
        "    #captions_doc = f.read()"
      ],
      "metadata": {
        "id": "KG9pqS2BOnfW"
      },
      "execution_count": null,
      "outputs": []
    },
    {
      "cell_type": "code",
      "source": [
        "captions_str = str(captions_doc)\n",
        "captions_list = captions_str.split('\\n')"
      ],
      "metadata": {
        "id": "JS-OwiJ2Ormh"
      },
      "execution_count": null,
      "outputs": []
    },
    {
      "cell_type": "code",
      "source": [
        "# create mapping of image to captions\n",
        "mapping = {}\n",
        "# process lines\n",
        "for i in range(2100):\n",
        "  for j in range(5):\n",
        "    image_id = captions_doc['images'][i]['filename']\n",
        "    caption = captions_doc['images'][i]['sentences'][j]['raw']\n",
        "    image_id = image_id.split('.')[0]\n",
        "    if image_id not in mapping:\n",
        "      mapping[image_id] = []\n",
        "    mapping[image_id].append(caption)"
      ],
      "metadata": {
        "id": "9Bwbey8eOv-q"
      },
      "execution_count": null,
      "outputs": []
    },
    {
      "cell_type": "code",
      "source": [
        "def clean(mapping):\n",
        "    for key, captions in mapping.items():\n",
        "        for i in range(len(captions)):\n",
        "            # take one caption at a time\n",
        "            caption = captions[i]\n",
        "            # preprocessing steps\n",
        "            # convert to lowercase\n",
        "            caption = caption.lower()\n",
        "            # delete digits, special chars, etc.,\n",
        "            caption = caption.replace('[^A-Za-z]', '')\n",
        "            # delete additional spaces\n",
        "            caption = caption.replace('\\s+', ' ')\n",
        "            # add start and end tags to the caption\n",
        "\n",
        "            caption = 'startseq ' + \" \".join([word for word in caption.split() if len(word)>1]) + ' endseq'\n",
        "            captions[i] = caption"
      ],
      "metadata": {
        "id": "CanuOmoXOx8F"
      },
      "execution_count": null,
      "outputs": []
    },
    {
      "cell_type": "code",
      "source": [
        "# before preprocess of text\n",
        "mapping['1']"
      ],
      "metadata": {
        "colab": {
          "base_uri": "https://localhost:8080/"
        },
        "id": "nGHVdmw1Oz8r",
        "outputId": "7dbdc5b7-736c-470c-f5c2-b235d12ddbc5"
      },
      "execution_count": null,
      "outputs": [
        {
          "output_type": "execute_result",
          "data": {
            "text/plain": [
              "['There is a piece of farmland .',\n",
              " 'There is a piece of cropland .',\n",
              " 'It is a piece of farmland .',\n",
              " 'It is a piece of cropland .',\n",
              " 'Here is a piece of farmland .']"
            ]
          },
          "metadata": {},
          "execution_count": 11
        }
      ]
    },
    {
      "cell_type": "code",
      "source": [
        "# preprocess the text\n",
        "clean(mapping)"
      ],
      "metadata": {
        "id": "orrqVE0EO2X7"
      },
      "execution_count": null,
      "outputs": []
    },
    {
      "cell_type": "code",
      "source": [
        "# after preprocess of text\n",
        "mapping['1']"
      ],
      "metadata": {
        "colab": {
          "base_uri": "https://localhost:8080/"
        },
        "id": "GZyO56K7O4cl",
        "outputId": "da741c31-a5fa-4b5a-c925-01b620706bd1"
      },
      "execution_count": null,
      "outputs": [
        {
          "output_type": "execute_result",
          "data": {
            "text/plain": [
              "['startseq there is piece of farmland endseq',\n",
              " 'startseq there is piece of cropland endseq',\n",
              " 'startseq it is piece of farmland endseq',\n",
              " 'startseq it is piece of cropland endseq',\n",
              " 'startseq here is piece of farmland endseq']"
            ]
          },
          "metadata": {},
          "execution_count": 13
        }
      ]
    },
    {
      "cell_type": "code",
      "source": [
        "all_captions = []\n",
        "for key in mapping:\n",
        "    for caption in mapping[key]:\n",
        "        all_captions.append(caption)"
      ],
      "metadata": {
        "id": "pPBMhcqVO7rC"
      },
      "execution_count": null,
      "outputs": []
    },
    {
      "cell_type": "code",
      "source": [
        "all_captions[:10]"
      ],
      "metadata": {
        "colab": {
          "base_uri": "https://localhost:8080/"
        },
        "id": "B9saUuaNO9IZ",
        "outputId": "6d250c41-4b27-4da1-867b-b94108858029"
      },
      "execution_count": null,
      "outputs": [
        {
          "output_type": "execute_result",
          "data": {
            "text/plain": [
              "['startseq there is piece of farmland endseq',\n",
              " 'startseq there is piece of cropland endseq',\n",
              " 'startseq it is piece of farmland endseq',\n",
              " 'startseq it is piece of cropland endseq',\n",
              " 'startseq here is piece of farmland endseq',\n",
              " 'startseq there is piece of farmland endseq',\n",
              " 'startseq there is piece of cropland endseq',\n",
              " 'startseq it is piece of farmland endseq',\n",
              " 'startseq it is piece of cropland endseq',\n",
              " 'startseq here is piece of farmland endseq']"
            ]
          },
          "metadata": {},
          "execution_count": 15
        }
      ]
    },
    {
      "cell_type": "code",
      "source": [
        "# tokenize the text\n",
        "tokenizer = Tokenizer()\n",
        "tokenizer.fit_on_texts(all_captions)\n",
        "vocab_size = len(tokenizer.word_index) + 1"
      ],
      "metadata": {
        "id": "GI-wWV23O-m7"
      },
      "execution_count": null,
      "outputs": []
    },
    {
      "cell_type": "code",
      "source": [
        "# get maximum length of the caption available\n",
        "max_length = max(len(caption.split()) for caption in all_captions)\n",
        "max_length"
      ],
      "metadata": {
        "colab": {
          "base_uri": "https://localhost:8080/"
        },
        "id": "t9MazwlbPAZ5",
        "outputId": "c09da188-3cc0-4262-d7d8-cf24517aaf98"
      },
      "execution_count": null,
      "outputs": [
        {
          "output_type": "execute_result",
          "data": {
            "text/plain": [
              "23"
            ]
          },
          "metadata": {},
          "execution_count": 17
        }
      ]
    },
    {
      "cell_type": "code",
      "source": [
        "trainim = list()\n",
        "testim = list()\n",
        "for i in range(2100):\n",
        "  trainortest = captions_doc['images'][i]['split']\n",
        "  if(trainortest == \"test\"):\n",
        "    testim.append(i+1)\n",
        "  else:\n",
        "    trainim.append(i+1)"
      ],
      "metadata": {
        "id": "liZiziH9PRaa"
      },
      "execution_count": null,
      "outputs": []
    },
    {
      "cell_type": "code",
      "source": [
        "trainim = list(map(str, trainim))"
      ],
      "metadata": {
        "id": "NBoyk20iZ_I_"
      },
      "execution_count": null,
      "outputs": []
    },
    {
      "cell_type": "code",
      "source": [
        "testim = list(map(str, testim))"
      ],
      "metadata": {
        "id": "KrhtoPEIaBVG"
      },
      "execution_count": null,
      "outputs": []
    },
    {
      "cell_type": "code",
      "source": [
        "from sklearn.model_selection import train_test_split\n",
        "train2, val2 = train_test_split(trainim, test_size=2/9, random_state=42)"
      ],
      "metadata": {
        "id": "jZubOKKMaDK9"
      },
      "execution_count": null,
      "outputs": []
    },
    {
      "cell_type": "code",
      "source": [
        "len(train2)"
      ],
      "metadata": {
        "colab": {
          "base_uri": "https://localhost:8080/"
        },
        "id": "1iBIyNGqaFhp",
        "outputId": "0e1f181b-1678-4e62-c287-9fcca699d5be"
      },
      "execution_count": null,
      "outputs": [
        {
          "output_type": "execute_result",
          "data": {
            "text/plain": [
              "1470"
            ]
          },
          "metadata": {},
          "execution_count": 22
        }
      ]
    },
    {
      "cell_type": "code",
      "source": [
        "len(val2)"
      ],
      "metadata": {
        "colab": {
          "base_uri": "https://localhost:8080/"
        },
        "id": "iqbndnD5aG_K",
        "outputId": "122bcd39-87ec-4c87-aba0-5f837af879fa"
      },
      "execution_count": null,
      "outputs": [
        {
          "output_type": "execute_result",
          "data": {
            "text/plain": [
              "420"
            ]
          },
          "metadata": {},
          "execution_count": 23
        }
      ]
    },
    {
      "cell_type": "code",
      "source": [
        "# startseq girl going into wooden building endseq\n",
        "#        X                   y\n",
        "# startseq                   girl\n",
        "# startseq girl              going\n",
        "# startseq girl going        into\n",
        "# ...........\n",
        "# startseq girl going into wooden building      endseq"
      ],
      "metadata": {
        "id": "8TdgCVQ3PTWx"
      },
      "execution_count": null,
      "outputs": []
    },
    {
      "cell_type": "code",
      "source": [
        "# create data generator to get data in batch (avoids session crash)\n",
        "def data_generator(data_keys, mapping, features, tokenizer, max_length, vocab_size, batch_size):\n",
        "    # loop over images\n",
        "    X1, X2, y = list(), list(), list()\n",
        "    n = 0\n",
        "    while 1:\n",
        "        for key in data_keys:\n",
        "            n += 1\n",
        "            captions = mapping[key]\n",
        "            # process each caption\n",
        "            for caption in captions:\n",
        "                # encode the sequence\n",
        "                seq = tokenizer.texts_to_sequences([caption])[0]\n",
        "                # split the sequence into X, y pairs\n",
        "                for i in range(1, len(seq)):\n",
        "                    # split into input and output pairs\n",
        "                    in_seq, out_seq = seq[:i], seq[i]\n",
        "                    # pad input sequence\n",
        "                    in_seq = pad_sequences([in_seq], maxlen=max_length)[0]\n",
        "                    # encode output sequence\n",
        "                    out_seq = to_categorical([out_seq], num_classes=vocab_size)[0]\n",
        "\n",
        "                    # store the sequences\n",
        "                    X1.append(features[key][0])\n",
        "                    X2.append(in_seq)\n",
        "                    y.append(out_seq)\n",
        "            if n == batch_size:\n",
        "                X1, X2, y = np.array(X1), np.array(X2), np.array(y)\n",
        "                yield [X1, X2], y\n",
        "                X1, X2, y = list(), list(), list()\n",
        "                n = 0"
      ],
      "metadata": {
        "id": "T3LaRvKHPT3j"
      },
      "execution_count": null,
      "outputs": []
    },
    {
      "cell_type": "code",
      "source": [
        "from tensorflow.keras.layers import Concatenate, TimeDistributed, Flatten, RepeatVector, Attention\n",
        "from tensorflow.keras.optimizers import Adam\n",
        "# encoder model\n",
        "# image feature layers\n",
        "inputs1 = Input(shape=(4096,))\n",
        "fe1 = Dropout(0.4)(inputs1)\n",
        "fe2 = Dense(256, activation='relu')(fe1)\n",
        "# sequence feature layers\n",
        "inputs2 = Input(shape=(max_length,))\n",
        "se1 = Embedding(vocab_size, 256, mask_zero=True)(inputs2)\n",
        "se2 = Dropout(0.4)(se1)\n",
        "se3 = LSTM(256)(se2)\n",
        "\n",
        "\n",
        "# Use RepeatVector to match the dimensions for concatenation\n",
        "fe2_repeat = RepeatVector(max_length)(fe2)\n",
        "se3_repeat = RepeatVector(max_length)(se3)\n",
        "\n",
        "# Concatenate fe2 and se3\n",
        "concat = Concatenate()([fe2_repeat, se3_repeat])\n",
        "\n",
        "# Now the shape of concat is (None, 23, 2*256), we need to reduce the last dimension to 256\n",
        "reduced_concat = TimeDistributed(Dense(256))(concat)\n",
        "\n",
        "# Apply attention\n",
        "attn_out = Attention()([reduced_concat, se3_repeat])\n",
        "\n",
        "# Flatten the output to have shape (None, 256)\n",
        "attn_out_flat = Flatten()(attn_out)\n",
        "\n",
        "# Concatenate fe2 with the attention output\n",
        "decoder1 = Concatenate()([fe2, attn_out_flat])\n",
        "\n",
        "# Now pass decoder1 through the rest of the network\n",
        "\n",
        "# Updated decoder model with Attention\n",
        "decoder2 = Dense(256, activation='relu')(decoder1)\n",
        "outputs = Dense(vocab_size, activation='softmax')(decoder2)\n",
        "\n",
        "optimizer = Adam(learning_rate=0.0001)\n",
        "\n",
        "model = Model(inputs=[inputs1, inputs2], outputs=outputs)\n",
        "model.compile(loss='categorical_crossentropy', optimizer=optimizer)\n",
        "\n",
        "# plot the model\n",
        "plot_model(model, show_shapes=True)"
      ],
      "metadata": {
        "colab": {
          "base_uri": "https://localhost:8080/",
          "height": 1000
        },
        "id": "7d3-Mu0jPVfm",
        "outputId": "ad6d6531-c932-41de-f3d2-45689f7759bc"
      },
      "execution_count": null,
      "outputs": [
        {
          "output_type": "execute_result",
          "data": {
            "image/png": "[encoded data removed]",
            "text/plain": [
              "<IPython.core.display.Image object>"
            ]
          },
          "metadata": {},
          "execution_count": 26
        }
      ]
    },
    {
      "cell_type": "code",
      "source": [
        "    epochs = 64\n",
        "    batch_size = 128\n",
        "    steps = len(train2) // batch_size\n",
        "    #steps = 12\n",
        "\n",
        "    for i in range(epochs):\n",
        "        # create data generator\n",
        "        generator = data_generator(train2, mapping, features, tokenizer, max_length, vocab_size, batch_size)\n",
        "        #generator2 = data_generator(test, mapping, features, tokenizer, max_length, vocab_size, batch_size)\n",
        "        generator3 = data_generator(val2, mapping, features, tokenizer, max_length, vocab_size, batch_size)\n",
        "\n",
        "        # fit for one epoch\n",
        "        model.fit(generator, epochs=1, steps_per_epoch=steps, verbose=1, validation_steps=steps, validation_data=generator3)"
      ],
      "metadata": {
        "colab": {
          "base_uri": "https://localhost:8080/"
        },
        "id": "Jupl2FI0PXUz",
        "outputId": "541da03f-7167-42ca-af28-969f7858e643"
      },
      "execution_count": null,
      "outputs": [
        {
          "output_type": "stream",
          "name": "stdout",
          "text": [
            "11/11 [==============================] - 18s 742ms/step - loss: 5.6675 - val_loss: 5.4350\n",
            "11/11 [==============================] - 7s 646ms/step - loss: 5.2102 - val_loss: 4.9923\n",
            "11/11 [==============================] - 7s 648ms/step - loss: 4.7992 - val_loss: 4.6521\n",
            "11/11 [==============================] - 7s 649ms/step - loss: 4.4710 - val_loss: 4.3425\n",
            "11/11 [==============================] - 7s 647ms/step - loss: 4.1777 - val_loss: 4.0914\n",
            "11/11 [==============================] - 7s 652ms/step - loss: 3.9438 - val_loss: 3.8768\n",
            "11/11 [==============================] - 7s 643ms/step - loss: 3.7394 - val_loss: 3.6883\n",
            "11/11 [==============================] - 7s 638ms/step - loss: 3.5539 - val_loss: 3.5166\n",
            "11/11 [==============================] - 7s 645ms/step - loss: 3.3805 - val_loss: 3.3492\n",
            "11/11 [==============================] - 7s 649ms/step - loss: 3.2132 - val_loss: 3.1879\n",
            "11/11 [==============================] - 7s 644ms/step - loss: 3.0481 - val_loss: 3.0296\n",
            "11/11 [==============================] - 7s 642ms/step - loss: 2.8863 - val_loss: 2.8724\n",
            "11/11 [==============================] - 7s 643ms/step - loss: 2.7278 - val_loss: 2.7192\n",
            "11/11 [==============================] - 7s 641ms/step - loss: 2.5721 - val_loss: 2.5696\n",
            "11/11 [==============================] - 7s 638ms/step - loss: 2.4216 - val_loss: 2.4260\n",
            "11/11 [==============================] - 7s 647ms/step - loss: 2.2766 - val_loss: 2.2924\n",
            "11/11 [==============================] - 6s 617ms/step - loss: 2.1480 - val_loss: 2.1650\n",
            "11/11 [==============================] - 7s 648ms/step - loss: 2.0262 - val_loss: 2.0497\n",
            "11/11 [==============================] - 7s 643ms/step - loss: 1.9153 - val_loss: 1.9453\n",
            "11/11 [==============================] - 7s 649ms/step - loss: 1.8075 - val_loss: 1.8479\n",
            "11/11 [==============================] - 7s 645ms/step - loss: 1.7160 - val_loss: 1.7592\n",
            "11/11 [==============================] - 7s 638ms/step - loss: 1.6284 - val_loss: 1.6771\n",
            "11/11 [==============================] - 6s 618ms/step - loss: 1.5465 - val_loss: 1.6014\n",
            "11/11 [==============================] - 7s 643ms/step - loss: 1.4724 - val_loss: 1.5330\n",
            "11/11 [==============================] - 7s 640ms/step - loss: 1.4041 - val_loss: 1.4701\n",
            "11/11 [==============================] - 7s 641ms/step - loss: 1.3420 - val_loss: 1.4136\n",
            "11/11 [==============================] - 7s 651ms/step - loss: 1.2831 - val_loss: 1.3626\n",
            "11/11 [==============================] - 7s 654ms/step - loss: 1.2330 - val_loss: 1.3152\n",
            "11/11 [==============================] - 7s 644ms/step - loss: 1.1830 - val_loss: 1.2725\n",
            "11/11 [==============================] - 7s 648ms/step - loss: 1.1389 - val_loss: 1.2336\n",
            "11/11 [==============================] - 7s 646ms/step - loss: 1.0977 - val_loss: 1.1982\n",
            "11/11 [==============================] - 6s 630ms/step - loss: 1.0619 - val_loss: 1.1677\n",
            "11/11 [==============================] - 7s 644ms/step - loss: 1.0285 - val_loss: 1.1378\n",
            "11/11 [==============================] - 7s 640ms/step - loss: 0.9978 - val_loss: 1.1122\n",
            "11/11 [==============================] - 7s 643ms/step - loss: 0.9713 - val_loss: 1.0863\n",
            "11/11 [==============================] - 7s 636ms/step - loss: 0.9453 - val_loss: 1.0628\n",
            "11/11 [==============================] - 7s 646ms/step - loss: 0.9208 - val_loss: 1.0421\n",
            "11/11 [==============================] - 7s 640ms/step - loss: 0.8978 - val_loss: 1.0264\n",
            "11/11 [==============================] - 7s 656ms/step - loss: 0.8725 - val_loss: 1.0082\n",
            "11/11 [==============================] - 7s 638ms/step - loss: 0.8527 - val_loss: 0.9882\n",
            "11/11 [==============================] - 7s 665ms/step - loss: 0.8342 - val_loss: 0.9734\n",
            "11/11 [==============================] - 7s 640ms/step - loss: 0.8178 - val_loss: 0.9578\n",
            "11/11 [==============================] - 7s 648ms/step - loss: 0.7988 - val_loss: 0.9465\n",
            "11/11 [==============================] - 7s 638ms/step - loss: 0.7823 - val_loss: 0.9338\n",
            "11/11 [==============================] - 7s 659ms/step - loss: 0.7731 - val_loss: 0.9256\n",
            "11/11 [==============================] - 7s 648ms/step - loss: 0.7576 - val_loss: 0.9223\n",
            "11/11 [==============================] - 7s 652ms/step - loss: 0.7459 - val_loss: 0.9124\n",
            "11/11 [==============================] - 7s 647ms/step - loss: 0.7355 - val_loss: 0.8922\n",
            "11/11 [==============================] - 7s 648ms/step - loss: 0.7260 - val_loss: 0.8769\n",
            "11/11 [==============================] - 7s 642ms/step - loss: 0.7140 - val_loss: 0.8775\n",
            "11/11 [==============================] - 7s 648ms/step - loss: 0.6979 - val_loss: 0.8616\n",
            "11/11 [==============================] - 7s 646ms/step - loss: 0.6840 - val_loss: 0.8501\n",
            "11/11 [==============================] - 7s 646ms/step - loss: 0.6774 - val_loss: 0.8461\n",
            "11/11 [==============================] - 7s 649ms/step - loss: 0.6657 - val_loss: 0.8370\n",
            "11/11 [==============================] - 7s 642ms/step - loss: 0.6569 - val_loss: 0.8274\n",
            "11/11 [==============================] - 6s 615ms/step - loss: 0.6474 - val_loss: 0.8194\n",
            "11/11 [==============================] - 7s 641ms/step - loss: 0.6390 - val_loss: 0.8122\n",
            "11/11 [==============================] - 7s 642ms/step - loss: 0.6327 - val_loss: 0.8059\n",
            "11/11 [==============================] - 7s 641ms/step - loss: 0.6256 - val_loss: 0.7986\n",
            "11/11 [==============================] - 7s 638ms/step - loss: 0.6160 - val_loss: 0.7917\n",
            "11/11 [==============================] - 7s 640ms/step - loss: 0.6104 - val_loss: 0.7863\n",
            "11/11 [==============================] - 7s 641ms/step - loss: 0.6026 - val_loss: 0.7810\n",
            "11/11 [==============================] - 7s 653ms/step - loss: 0.5936 - val_loss: 0.7755\n",
            "11/11 [==============================] - 7s 644ms/step - loss: 0.5865 - val_loss: 0.7723\n"
          ]
        }
      ]
    },
    {
      "cell_type": "code",
      "source": [
        "# save the model\n",
        "model.save(WORKING_DIR+'/VGG-LSTM-DM-e64b128.h5')\n",
        "#model = keras.models.load_model(WORKING_DIR+'/LSTMe64b128.h5')"
      ],
      "metadata": {
        "id": "KbeKFjdEPhjO"
      },
      "execution_count": null,
      "outputs": []
    },
    {
      "cell_type": "code",
      "source": [
        "def idx_to_word(integer, tokenizer):\n",
        "    for word, index in tokenizer.word_index.items():\n",
        "        if index == integer:\n",
        "            return word\n",
        "    return None"
      ],
      "metadata": {
        "id": "lNUEboqkPnoX"
      },
      "execution_count": null,
      "outputs": []
    },
    {
      "cell_type": "code",
      "source": [
        "# generate caption for an image\n",
        "def predict_caption(model, image, tokenizer, max_length):\n",
        "    # add start tag for generation process\n",
        "    in_text = 'startseq'\n",
        "    # iterate over the max length of sequence\n",
        "    for i in range(max_length):\n",
        "        # encode input sequence\n",
        "        sequence = tokenizer.texts_to_sequences([in_text])[0]\n",
        "        # pad the sequence\n",
        "        sequence = pad_sequences([sequence], max_length)\n",
        "        # predict next word\n",
        "        yhat = model.predict([image, sequence], verbose=0)\n",
        "        # get index with high probability\n",
        "        yhat = np.argmax(yhat)\n",
        "        # convert index to word\n",
        "        word = idx_to_word(yhat, tokenizer)\n",
        "        # stop if word not found\n",
        "        if word is None:\n",
        "            break\n",
        "        # append word as input for generating next word\n",
        "        in_text += \" \" + word\n",
        "        # stop if we reach end tag\n",
        "        if word == 'endseq':\n",
        "            break\n",
        "\n",
        "    return in_text"
      ],
      "metadata": {
        "id": "drNZHQogPoQi"
      },
      "execution_count": null,
      "outputs": []
    },
    {
      "cell_type": "code",
      "source": [
        "import nltk\n",
        "from nltk.translate.bleu_score import corpus_bleu\n",
        "# validate with test data\n",
        "actual, predicted = [], []\n",
        "\n",
        "for key in tqdm(testim):#test\n",
        "    # get actual caption\n",
        "    captions = mapping[key]\n",
        "    # predict the caption for image\n",
        "    y_pred = predict_caption(model, features[key], tokenizer, max_length)\n",
        "    # split into words\n",
        "    actual_captions = [caption.split() for caption in captions]\n",
        "    y_pred = y_pred.split()\n",
        "    # append to the list\n",
        "    actual.append(actual_captions)\n",
        "    predicted.append(y_pred)"
      ],
      "metadata": {
        "id": "5RutqVCgPsvj",
        "colab": {
          "base_uri": "https://localhost:8080/",
          "height": 49,
          "referenced_widgets": [
            "140a2601f7354b30811f858526fad1bc",
            "fd0b14742f504db1bb7958a2e86ebaa2",
            "9ef42e6ea1884db49d747e7811517769",
            "d275fa19e9ee467a8b78554491273ab0",
            "aa49386e348c406f81da5b4c08f644f3",
            "4a9728a1913f4f799e30148887b718d6",
            "8e149a44baa54674948a8614b075be76",
            "4f2bdd0c260946a1887c928158d82042",
            "e2be9788aa1f470d961d4402f577ad79",
            "d1f1ad51760946f294edb7c5115deb28",
            "e819aebe2b9d4c66878d7771ec39909c"
          ]
        },
        "outputId": "bbc12c21-0b82-44a5-be63-591a52960038"
      },
      "execution_count": null,
      "outputs": [
        {
          "output_type": "display_data",
          "data": {
            "text/plain": [
              "  0%|          | 0/210 [00:00<?, ?it/s]"
            ],
            "application/vnd.jupyter.widget-view+json": {
              "version_major": 2,
              "version_minor": 0,
              "model_id": "140a2601f7354b30811f858526fad1bc"
            }
          },
          "metadata": {}
        }
      ]
    },
    {
      "cell_type": "code",
      "source": [
        "# calcuate BLEU score\n",
        "print(\"BLEU-1: %f\" % corpus_bleu(actual, predicted, weights=(1.0, 0, 0, 0)))\n",
        "print(\"BLEU-2: %f\" % corpus_bleu(actual, predicted, weights=(0.5, 0.5, 0, 0)))\n",
        "print(\"BLEU-3: %f\" % corpus_bleu(actual, predicted, weights=(0.33, 0.33, 0.33, 0)))\n",
        "print(\"BLEU-4: %f\" % corpus_bleu(actual, predicted, weights=(0.25, 0.25, 0.25, 0.25)))"
      ],
      "metadata": {
        "id": "vSWBY2_APu3u",
        "colab": {
          "base_uri": "https://localhost:8080/"
        },
        "outputId": "0e7c09d8-5634-48ff-ba4b-f9968ffbb0c9"
      },
      "execution_count": null,
      "outputs": [
        {
          "output_type": "stream",
          "name": "stdout",
          "text": [
            "BLEU-1: 0.827071\n",
            "BLEU-2: 0.747207\n",
            "BLEU-3: 0.689500\n",
            "BLEU-4: 0.632323\n"
          ]
        }
      ]
    },
    {
      "cell_type": "code",
      "source": [
        "import nltk\n",
        "nltk.download('wordnet')"
      ],
      "metadata": {
        "id": "48QHgRVYP13w",
        "colab": {
          "base_uri": "https://localhost:8080/"
        },
        "outputId": "32bc54eb-5d22-4e60-ed0c-ca38fc6553c5"
      },
      "execution_count": null,
      "outputs": [
        {
          "output_type": "stream",
          "name": "stderr",
          "text": [
            "[nltk_data] Downloading package wordnet to /root/nltk_data...\n"
          ]
        },
        {
          "output_type": "execute_result",
          "data": {
            "text/plain": [
              "True"
            ]
          },
          "metadata": {},
          "execution_count": 33
        }
      ]
    },
    {
      "cell_type": "code",
      "source": [
        "from nltk.translate.meteor_score import single_meteor_score\n",
        "\n",
        "toplam=0\n",
        "for i in range(0, len(actual)):\n",
        "  score1 = single_meteor_score(actual[i][2][1:-1],predicted[i][1:-1])\n",
        "  toplam = score1 + toplam\n",
        "\n",
        "toplam"
      ],
      "metadata": {
        "id": "BewF9GJOPyND",
        "colab": {
          "base_uri": "https://localhost:8080/"
        },
        "outputId": "927d69ad-4673-429d-9b9c-d4777c0440bd"
      },
      "execution_count": null,
      "outputs": [
        {
          "output_type": "execute_result",
          "data": {
            "text/plain": [
              "112.98151823848201"
            ]
          },
          "metadata": {},
          "execution_count": 34
        }
      ]
    },
    {
      "cell_type": "code",
      "source": [
        "toplam/len(actual)"
      ],
      "metadata": {
        "id": "nDDOMZKxP8tQ",
        "colab": {
          "base_uri": "https://localhost:8080/"
        },
        "outputId": "386046da-79e1-49c4-b0ee-b9cb2c80a87d"
      },
      "execution_count": null,
      "outputs": [
        {
          "output_type": "execute_result",
          "data": {
            "text/plain": [
              "0.5380072297070572"
            ]
          },
          "metadata": {},
          "execution_count": 35
        }
      ]
    },
    {
      "cell_type": "code",
      "source": [
        "from PIL import Image\n",
        "import matplotlib.pyplot as plt\n",
        "def generate_caption(image_name):\n",
        "    # load the image\n",
        "    # image_name = \"1001773457_577c3a7d70.jpg\"\n",
        "    image_id = image_name.split('.')[0]\n",
        "    img_path = os.path.join(BASE_DIR, \"imgs\", image_name)\n",
        "    image = Image.open(img_path)\n",
        "    captions = mapping[image_id]\n",
        "    print('---------------------Actual---------------------')\n",
        "    for caption in captions:\n",
        "        print(caption)\n",
        "    # predict the caption\n",
        "    y_pred = predict_caption(model, features[image_id], tokenizer, max_length)\n",
        "    print('--------------------Predicted--------------------')\n",
        "    print(y_pred)\n",
        "    plt.imshow(image)"
      ],
      "metadata": {
        "id": "TPIZfi3zP-Ug"
      },
      "execution_count": null,
      "outputs": []
    },
    {
      "cell_type": "code",
      "source": [
        "generate_caption(\"1092.tif\")"
      ],
      "metadata": {
        "id": "MZ7y9yVKQCAp",
        "colab": {
          "base_uri": "https://localhost:8080/",
          "height": 165
        },
        "outputId": "70e00527-d89a-4433-e9ce-863242c958e6"
      },
      "execution_count": 1,
      "outputs": [
        {
          "output_type": "error",
          "ename": "NameError",
          "evalue": "ignored",
          "traceback": [
            "\u001b[0;31m---------------------------------------------------------------------------\u001b[0m",
            "\u001b[0;31mNameError\u001b[0m                                 Traceback (most recent call last)",
            "\u001b[0;32m<ipython-input-1-ddef1949062c>\u001b[0m in \u001b[0;36m<cell line: 1>\u001b[0;34m()\u001b[0m\n\u001b[0;32m----> 1\u001b[0;31m \u001b[0mgenerate_caption\u001b[0m\u001b[0;34m(\u001b[0m\u001b[0;34m\"1092.tif\"\u001b[0m\u001b[0;34m)\u001b[0m\u001b[0;34m\u001b[0m\u001b[0;34m\u001b[0m\u001b[0m\n\u001b[0m",
            "\u001b[0;31mNameError\u001b[0m: name 'generate_caption' is not defined"
          ]
        }
      ]
    }
  ]
}