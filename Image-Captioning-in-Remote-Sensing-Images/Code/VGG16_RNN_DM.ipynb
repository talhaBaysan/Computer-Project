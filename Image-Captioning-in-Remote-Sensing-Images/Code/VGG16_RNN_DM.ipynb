{
  "nbformat": 4,
  "nbformat_minor": 0,
  "metadata": {
    "colab": {
      "provenance": [],
      "machine_shape": "hm",
      "gpuType": "A100"
    },
    "kernelspec": {
      "name": "python3",
      "display_name": "Python 3"
    },
    "language_info": {
      "name": "python"
    },
    "widgets": {
      "application/vnd.jupyter.widget-state+json": {
        "49a85bad79694e1aa8ccfaa87cc9598c": {
          "model_module": "@jupyter-widgets/controls",
          "model_name": "HBoxModel",
          "model_module_version": "1.5.0",
          "state": {
            "_dom_classes": [],
            "_model_module": "@jupyter-widgets/controls",
            "_model_module_version": "1.5.0",
            "_model_name": "HBoxModel",
            "_view_count": null,
            "_view_module": "@jupyter-widgets/controls",
            "_view_module_version": "1.5.0",
            "_view_name": "HBoxView",
            "box_style": "",
            "children": [
              "IPY_MODEL_1a8d1121fc794fa9babb05cbe75a21b1",
              "IPY_MODEL_41fdb9702d824a0dac6a607d047931d6",
              "IPY_MODEL_76e7e4c891f24707be2f7b3dda6af3a1"
            ],
            "layout": "IPY_MODEL_e8a37b897aac49aa86d1d9a3d39b3c10"
          }
        },
        "1a8d1121fc794fa9babb05cbe75a21b1": {
          "model_module": "@jupyter-widgets/controls",
          "model_name": "HTMLModel",
          "model_module_version": "1.5.0",
          "state": {
            "_dom_classes": [],
            "_model_module": "@jupyter-widgets/controls",
            "_model_module_version": "1.5.0",
            "_model_name": "HTMLModel",
            "_view_count": null,
            "_view_module": "@jupyter-widgets/controls",
            "_view_module_version": "1.5.0",
            "_view_name": "HTMLView",
            "description": "",
            "description_tooltip": null,
            "layout": "IPY_MODEL_54932305682a4c3c8812dbbe6a2a224d",
            "placeholder": "​",
            "style": "IPY_MODEL_a55c7ebbf3ca4e8e96bc8edeb3c12135",
            "value": "100%"
          }
        },
        "41fdb9702d824a0dac6a607d047931d6": {
          "model_module": "@jupyter-widgets/controls",
          "model_name": "FloatProgressModel",
          "model_module_version": "1.5.0",
          "state": {
            "_dom_classes": [],
            "_model_module": "@jupyter-widgets/controls",
            "_model_module_version": "1.5.0",
            "_model_name": "FloatProgressModel",
            "_view_count": null,
            "_view_module": "@jupyter-widgets/controls",
            "_view_module_version": "1.5.0",
            "_view_name": "ProgressView",
            "bar_style": "success",
            "description": "",
            "description_tooltip": null,
            "layout": "IPY_MODEL_cc07e81aede1454798f477bbbb405c31",
            "max": 2100,
            "min": 0,
            "orientation": "horizontal",
            "style": "IPY_MODEL_f2215b980fbe438f820a0aa790d48bfd",
            "value": 2100
          }
        },
        "76e7e4c891f24707be2f7b3dda6af3a1": {
          "model_module": "@jupyter-widgets/controls",
          "model_name": "HTMLModel",
          "model_module_version": "1.5.0",
          "state": {
            "_dom_classes": [],
            "_model_module": "@jupyter-widgets/controls",
            "_model_module_version": "1.5.0",
            "_model_name": "HTMLModel",
            "_view_count": null,
            "_view_module": "@jupyter-widgets/controls",
            "_view_module_version": "1.5.0",
            "_view_name": "HTMLView",
            "description": "",
            "description_tooltip": null,
            "layout": "IPY_MODEL_ff783f4ccd5446d49377b752c1977de3",
            "placeholder": "​",
            "style": "IPY_MODEL_33063a519b884bd7b9d59dbf4cc86645",
            "value": " 2100/2100 [27:45&lt;00:00,  1.05s/it]"
          }
        },
        "e8a37b897aac49aa86d1d9a3d39b3c10": {
          "model_module": "@jupyter-widgets/base",
          "model_name": "LayoutModel",
          "model_module_version": "1.2.0",
          "state": {
            "_model_module": "@jupyter-widgets/base",
            "_model_module_version": "1.2.0",
            "_model_name": "LayoutModel",
            "_view_count": null,
            "_view_module": "@jupyter-widgets/base",
            "_view_module_version": "1.2.0",
            "_view_name": "LayoutView",
            "align_content": null,
            "align_items": null,
            "align_self": null,
            "border": null,
            "bottom": null,
            "display": null,
            "flex": null,
            "flex_flow": null,
            "grid_area": null,
            "grid_auto_columns": null,
            "grid_auto_flow": null,
            "grid_auto_rows": null,
            "grid_column": null,
            "grid_gap": null,
            "grid_row": null,
            "grid_template_areas": null,
            "grid_template_columns": null,
            "grid_template_rows": null,
            "height": null,
            "justify_content": null,
            "justify_items": null,
            "left": null,
            "margin": null,
            "max_height": null,
            "max_width": null,
            "min_height": null,
            "min_width": null,
            "object_fit": null,
            "object_position": null,
            "order": null,
            "overflow": null,
            "overflow_x": null,
            "overflow_y": null,
            "padding": null,
            "right": null,
            "top": null,
            "visibility": null,
            "width": null
          }
        },
        "54932305682a4c3c8812dbbe6a2a224d": {
          "model_module": "@jupyter-widgets/base",
          "model_name": "LayoutModel",
          "model_module_version": "1.2.0",
          "state": {
            "_model_module": "@jupyter-widgets/base",
            "_model_module_version": "1.2.0",
            "_model_name": "LayoutModel",
            "_view_count": null,
            "_view_module": "@jupyter-widgets/base",
            "_view_module_version": "1.2.0",
            "_view_name": "LayoutView",
            "align_content": null,
            "align_items": null,
            "align_self": null,
            "border": null,
            "bottom": null,
            "display": null,
            "flex": null,
            "flex_flow": null,
            "grid_area": null,
            "grid_auto_columns": null,
            "grid_auto_flow": null,
            "grid_auto_rows": null,
            "grid_column": null,
            "grid_gap": null,
            "grid_row": null,
            "grid_template_areas": null,
            "grid_template_columns": null,
            "grid_template_rows": null,
            "height": null,
            "justify_content": null,
            "justify_items": null,
            "left": null,
            "margin": null,
            "max_height": null,
            "max_width": null,
            "min_height": null,
            "min_width": null,
            "object_fit": null,
            "object_position": null,
            "order": null,
            "overflow": null,
            "overflow_x": null,
            "overflow_y": null,
            "padding": null,
            "right": null,
            "top": null,
            "visibility": null,
            "width": null
          }
        },
        "a55c7ebbf3ca4e8e96bc8edeb3c12135": {
          "model_module": "@jupyter-widgets/controls",
          "model_name": "DescriptionStyleModel",
          "model_module_version": "1.5.0",
          "state": {
            "_model_module": "@jupyter-widgets/controls",
            "_model_module_version": "1.5.0",
            "_model_name": "DescriptionStyleModel",
            "_view_count": null,
            "_view_module": "@jupyter-widgets/base",
            "_view_module_version": "1.2.0",
            "_view_name": "StyleView",
            "description_width": ""
          }
        },
        "cc07e81aede1454798f477bbbb405c31": {
          "model_module": "@jupyter-widgets/base",
          "model_name": "LayoutModel",
          "model_module_version": "1.2.0",
          "state": {
            "_model_module": "@jupyter-widgets/base",
            "_model_module_version": "1.2.0",
            "_model_name": "LayoutModel",
            "_view_count": null,
            "_view_module": "@jupyter-widgets/base",
            "_view_module_version": "1.2.0",
            "_view_name": "LayoutView",
            "align_content": null,
            "align_items": null,
            "align_self": null,
            "border": null,
            "bottom": null,
            "display": null,
            "flex": null,
            "flex_flow": null,
            "grid_area": null,
            "grid_auto_columns": null,
            "grid_auto_flow": null,
            "grid_auto_rows": null,
            "grid_column": null,
            "grid_gap": null,
            "grid_row": null,
            "grid_template_areas": null,
            "grid_template_columns": null,
            "grid_template_rows": null,
            "height": null,
            "justify_content": null,
            "justify_items": null,
            "left": null,
            "margin": null,
            "max_height": null,
            "max_width": null,
            "min_height": null,
            "min_width": null,
            "object_fit": null,
            "object_position": null,
            "order": null,
            "overflow": null,
            "overflow_x": null,
            "overflow_y": null,
            "padding": null,
            "right": null,
            "top": null,
            "visibility": null,
            "width": null
          }
        },
        "f2215b980fbe438f820a0aa790d48bfd": {
          "model_module": "@jupyter-widgets/controls",
          "model_name": "ProgressStyleModel",
          "model_module_version": "1.5.0",
          "state": {
            "_model_module": "@jupyter-widgets/controls",
            "_model_module_version": "1.5.0",
            "_model_name": "ProgressStyleModel",
            "_view_count": null,
            "_view_module": "@jupyter-widgets/base",
            "_view_module_version": "1.2.0",
            "_view_name": "StyleView",
            "bar_color": null,
            "description_width": ""
          }
        },
        "ff783f4ccd5446d49377b752c1977de3": {
          "model_module": "@jupyter-widgets/base",
          "model_name": "LayoutModel",
          "model_module_version": "1.2.0",
          "state": {
            "_model_module": "@jupyter-widgets/base",
            "_model_module_version": "1.2.0",
            "_model_name": "LayoutModel",
            "_view_count": null,
            "_view_module": "@jupyter-widgets/base",
            "_view_module_version": "1.2.0",
            "_view_name": "LayoutView",
            "align_content": null,
            "align_items": null,
            "align_self": null,
            "border": null,
            "bottom": null,
            "display": null,
            "flex": null,
            "flex_flow": null,
            "grid_area": null,
            "grid_auto_columns": null,
            "grid_auto_flow": null,
            "grid_auto_rows": null,
            "grid_column": null,
            "grid_gap": null,
            "grid_row": null,
            "grid_template_areas": null,
            "grid_template_columns": null,
            "grid_template_rows": null,
            "height": null,
            "justify_content": null,
            "justify_items": null,
            "left": null,
            "margin": null,
            "max_height": null,
            "max_width": null,
            "min_height": null,
            "min_width": null,
            "object_fit": null,
            "object_position": null,
            "order": null,
            "overflow": null,
            "overflow_x": null,
            "overflow_y": null,
            "padding": null,
            "right": null,
            "top": null,
            "visibility": null,
            "width": null
          }
        },
        "33063a519b884bd7b9d59dbf4cc86645": {
          "model_module": "@jupyter-widgets/controls",
          "model_name": "DescriptionStyleModel",
          "model_module_version": "1.5.0",
          "state": {
            "_model_module": "@jupyter-widgets/controls",
            "_model_module_version": "1.5.0",
            "_model_name": "DescriptionStyleModel",
            "_view_count": null,
            "_view_module": "@jupyter-widgets/base",
            "_view_module_version": "1.2.0",
            "_view_name": "StyleView",
            "description_width": ""
          }
        },
        "91eae3a63cec4fa5909d169cde084010": {
          "model_module": "@jupyter-widgets/controls",
          "model_name": "HBoxModel",
          "model_module_version": "1.5.0",
          "state": {
            "_dom_classes": [],
            "_model_module": "@jupyter-widgets/controls",
            "_model_module_version": "1.5.0",
            "_model_name": "HBoxModel",
            "_view_count": null,
            "_view_module": "@jupyter-widgets/controls",
            "_view_module_version": "1.5.0",
            "_view_name": "HBoxView",
            "box_style": "",
            "children": [
              "IPY_MODEL_662cc2773e6b40c09da76bd056f366c4",
              "IPY_MODEL_e6fa969ceb9148e48e41786939528e69",
              "IPY_MODEL_d5f43155060f40eb81ad39de3318dd7e"
            ],
            "layout": "IPY_MODEL_598e9a5796264864a7d906037527f0c6"
          }
        },
        "662cc2773e6b40c09da76bd056f366c4": {
          "model_module": "@jupyter-widgets/controls",
          "model_name": "HTMLModel",
          "model_module_version": "1.5.0",
          "state": {
            "_dom_classes": [],
            "_model_module": "@jupyter-widgets/controls",
            "_model_module_version": "1.5.0",
            "_model_name": "HTMLModel",
            "_view_count": null,
            "_view_module": "@jupyter-widgets/controls",
            "_view_module_version": "1.5.0",
            "_view_name": "HTMLView",
            "description": "",
            "description_tooltip": null,
            "layout": "IPY_MODEL_a1bffa7e4a5f4556891a67e8e15b1e9d",
            "placeholder": "​",
            "style": "IPY_MODEL_85afde452bd84361ae07b2df540bd52a",
            "value": "100%"
          }
        },
        "e6fa969ceb9148e48e41786939528e69": {
          "model_module": "@jupyter-widgets/controls",
          "model_name": "FloatProgressModel",
          "model_module_version": "1.5.0",
          "state": {
            "_dom_classes": [],
            "_model_module": "@jupyter-widgets/controls",
            "_model_module_version": "1.5.0",
            "_model_name": "FloatProgressModel",
            "_view_count": null,
            "_view_module": "@jupyter-widgets/controls",
            "_view_module_version": "1.5.0",
            "_view_name": "ProgressView",
            "bar_style": "success",
            "description": "",
            "description_tooltip": null,
            "layout": "IPY_MODEL_0a05a940d1a24a1c98948455091dc378",
            "max": 210,
            "min": 0,
            "orientation": "horizontal",
            "style": "IPY_MODEL_76b47a84e67645a29c64d9b1b72869b3",
            "value": 210
          }
        },
        "d5f43155060f40eb81ad39de3318dd7e": {
          "model_module": "@jupyter-widgets/controls",
          "model_name": "HTMLModel",
          "model_module_version": "1.5.0",
          "state": {
            "_dom_classes": [],
            "_model_module": "@jupyter-widgets/controls",
            "_model_module_version": "1.5.0",
            "_model_name": "HTMLModel",
            "_view_count": null,
            "_view_module": "@jupyter-widgets/controls",
            "_view_module_version": "1.5.0",
            "_view_name": "HTMLView",
            "description": "",
            "description_tooltip": null,
            "layout": "IPY_MODEL_8473b69af573417c8798bd8edfecc718",
            "placeholder": "​",
            "style": "IPY_MODEL_f592923b90614a088e51dcff6b68dd2d",
            "value": " 210/210 [02:16&lt;00:00,  1.41it/s]"
          }
        },
        "598e9a5796264864a7d906037527f0c6": {
          "model_module": "@jupyter-widgets/base",
          "model_name": "LayoutModel",
          "model_module_version": "1.2.0",
          "state": {
            "_model_module": "@jupyter-widgets/base",
            "_model_module_version": "1.2.0",
            "_model_name": "LayoutModel",
            "_view_count": null,
            "_view_module": "@jupyter-widgets/base",
            "_view_module_version": "1.2.0",
            "_view_name": "LayoutView",
            "align_content": null,
            "align_items": null,
            "align_self": null,
            "border": null,
            "bottom": null,
            "display": null,
            "flex": null,
            "flex_flow": null,
            "grid_area": null,
            "grid_auto_columns": null,
            "grid_auto_flow": null,
            "grid_auto_rows": null,
            "grid_column": null,
            "grid_gap": null,
            "grid_row": null,
            "grid_template_areas": null,
            "grid_template_columns": null,
            "grid_template_rows": null,
            "height": null,
            "justify_content": null,
            "justify_items": null,
            "left": null,
            "margin": null,
            "max_height": null,
            "max_width": null,
            "min_height": null,
            "min_width": null,
            "object_fit": null,
            "object_position": null,
            "order": null,
            "overflow": null,
            "overflow_x": null,
            "overflow_y": null,
            "padding": null,
            "right": null,
            "top": null,
            "visibility": null,
            "width": null
          }
        },
        "a1bffa7e4a5f4556891a67e8e15b1e9d": {
          "model_module": "@jupyter-widgets/base",
          "model_name": "LayoutModel",
          "model_module_version": "1.2.0",
          "state": {
            "_model_module": "@jupyter-widgets/base",
            "_model_module_version": "1.2.0",
            "_model_name": "LayoutModel",
            "_view_count": null,
            "_view_module": "@jupyter-widgets/base",
            "_view_module_version": "1.2.0",
            "_view_name": "LayoutView",
            "align_content": null,
            "align_items": null,
            "align_self": null,
            "border": null,
            "bottom": null,
            "display": null,
            "flex": null,
            "flex_flow": null,
            "grid_area": null,
            "grid_auto_columns": null,
            "grid_auto_flow": null,
            "grid_auto_rows": null,
            "grid_column": null,
            "grid_gap": null,
            "grid_row": null,
            "grid_template_areas": null,
            "grid_template_columns": null,
            "grid_template_rows": null,
            "height": null,
            "justify_content": null,
            "justify_items": null,
            "left": null,
            "margin": null,
            "max_height": null,
            "max_width": null,
            "min_height": null,
            "min_width": null,
            "object_fit": null,
            "object_position": null,
            "order": null,
            "overflow": null,
            "overflow_x": null,
            "overflow_y": null,
            "padding": null,
            "right": null,
            "top": null,
            "visibility": null,
            "width": null
          }
        },
        "85afde452bd84361ae07b2df540bd52a": {
          "model_module": "@jupyter-widgets/controls",
          "model_name": "DescriptionStyleModel",
          "model_module_version": "1.5.0",
          "state": {
            "_model_module": "@jupyter-widgets/controls",
            "_model_module_version": "1.5.0",
            "_model_name": "DescriptionStyleModel",
            "_view_count": null,
            "_view_module": "@jupyter-widgets/base",
            "_view_module_version": "1.2.0",
            "_view_name": "StyleView",
            "description_width": ""
          }
        },
        "0a05a940d1a24a1c98948455091dc378": {
          "model_module": "@jupyter-widgets/base",
          "model_name": "LayoutModel",
          "model_module_version": "1.2.0",
          "state": {
            "_model_module": "@jupyter-widgets/base",
            "_model_module_version": "1.2.0",
            "_model_name": "LayoutModel",
            "_view_count": null,
            "_view_module": "@jupyter-widgets/base",
            "_view_module_version": "1.2.0",
            "_view_name": "LayoutView",
            "align_content": null,
            "align_items": null,
            "align_self": null,
            "border": null,
            "bottom": null,
            "display": null,
            "flex": null,
            "flex_flow": null,
            "grid_area": null,
            "grid_auto_columns": null,
            "grid_auto_flow": null,
            "grid_auto_rows": null,
            "grid_column": null,
            "grid_gap": null,
            "grid_row": null,
            "grid_template_areas": null,
            "grid_template_columns": null,
            "grid_template_rows": null,
            "height": null,
            "justify_content": null,
            "justify_items": null,
            "left": null,
            "margin": null,
            "max_height": null,
            "max_width": null,
            "min_height": null,
            "min_width": null,
            "object_fit": null,
            "object_position": null,
            "order": null,
            "overflow": null,
            "overflow_x": null,
            "overflow_y": null,
            "padding": null,
            "right": null,
            "top": null,
            "visibility": null,
            "width": null
          }
        },
        "76b47a84e67645a29c64d9b1b72869b3": {
          "model_module": "@jupyter-widgets/controls",
          "model_name": "ProgressStyleModel",
          "model_module_version": "1.5.0",
          "state": {
            "_model_module": "@jupyter-widgets/controls",
            "_model_module_version": "1.5.0",
            "_model_name": "ProgressStyleModel",
            "_view_count": null,
            "_view_module": "@jupyter-widgets/base",
            "_view_module_version": "1.2.0",
            "_view_name": "StyleView",
            "bar_color": null,
            "description_width": ""
          }
        },
        "8473b69af573417c8798bd8edfecc718": {
          "model_module": "@jupyter-widgets/base",
          "model_name": "LayoutModel",
          "model_module_version": "1.2.0",
          "state": {
            "_model_module": "@jupyter-widgets/base",
            "_model_module_version": "1.2.0",
            "_model_name": "LayoutModel",
            "_view_count": null,
            "_view_module": "@jupyter-widgets/base",
            "_view_module_version": "1.2.0",
            "_view_name": "LayoutView",
            "align_content": null,
            "align_items": null,
            "align_self": null,
            "border": null,
            "bottom": null,
            "display": null,
            "flex": null,
            "flex_flow": null,
            "grid_area": null,
            "grid_auto_columns": null,
            "grid_auto_flow": null,
            "grid_auto_rows": null,
            "grid_column": null,
            "grid_gap": null,
            "grid_row": null,
            "grid_template_areas": null,
            "grid_template_columns": null,
            "grid_template_rows": null,
            "height": null,
            "justify_content": null,
            "justify_items": null,
            "left": null,
            "margin": null,
            "max_height": null,
            "max_width": null,
            "min_height": null,
            "min_width": null,
            "object_fit": null,
            "object_position": null,
            "order": null,
            "overflow": null,
            "overflow_x": null,
            "overflow_y": null,
            "padding": null,
            "right": null,
            "top": null,
            "visibility": null,
            "width": null
          }
        },
        "f592923b90614a088e51dcff6b68dd2d": {
          "model_module": "@jupyter-widgets/controls",
          "model_name": "DescriptionStyleModel",
          "model_module_version": "1.5.0",
          "state": {
            "_model_module": "@jupyter-widgets/controls",
            "_model_module_version": "1.5.0",
            "_model_name": "DescriptionStyleModel",
            "_view_count": null,
            "_view_module": "@jupyter-widgets/base",
            "_view_module_version": "1.2.0",
            "_view_name": "StyleView",
            "description_width": ""
          }
        }
      }
    },
    "accelerator": "GPU"
  },
  "cells": [
    {
      "cell_type": "code",
      "execution_count": null,
      "metadata": {
        "id": "v5CoUhQeOAvh"
      },
      "outputs": [],
      "source": [
        "import os\n",
        "import pickle\n",
        "import numpy as np\n",
        "from tqdm.notebook import tqdm\n",
        "from tensorflow.keras.applications.vgg16 import VGG16, preprocess_input\n",
        "from tensorflow.keras.preprocessing.image import load_img, img_to_array\n",
        "from tensorflow.keras.preprocessing.text import Tokenizer\n",
        "from tensorflow.keras.preprocessing.sequence import pad_sequences\n",
        "from tensorflow.keras.models import Model\n",
        "from tensorflow.keras.utils import to_categorical, plot_model\n",
        "from tensorflow.keras.layers import Input, Dense, LSTM, Embedding, Dropout, add\n",
        "import keras"
      ]
    },
    {
      "cell_type": "code",
      "source": [
        "from google.colab import drive\n",
        "drive.mount('/content/drive/')"
      ],
      "metadata": {
        "colab": {
          "base_uri": "https://localhost:8080/"
        },
        "id": "n8oxw6jROLjS",
        "outputId": "fd500938-17f4-4843-b913-b17155016b9d"
      },
      "execution_count": null,
      "outputs": [
        {
          "output_type": "stream",
          "name": "stdout",
          "text": [
            "Mounted at /content/drive/\n"
          ]
        }
      ]
    },
    {
      "cell_type": "code",
      "source": [
        "BASE_DIR = '/content/drive/MyDrive/Colab Notebooks/UGM'\n",
        "WORKING_DIR = '/content/drive/MyDrive/Working'"
      ],
      "metadata": {
        "id": "0NBcchhjONcl"
      },
      "execution_count": null,
      "outputs": []
    },
    {
      "cell_type": "code",
      "source": [
        "model = VGG16()\n",
        "model = Model(inputs=model.inputs, outputs=model.layers[-2].output)\n",
        "print(model.summary())"
      ],
      "metadata": {
        "colab": {
          "base_uri": "https://localhost:8080/"
        },
        "id": "zngwvJ-uOdf8",
        "outputId": "d56d2a59-5447-449d-9c86-9a7e5a0cc37a"
      },
      "execution_count": null,
      "outputs": [
        {
          "output_type": "stream",
          "name": "stdout",
          "text": [
            "Downloading data from https://storage.googleapis.com/tensorflow/keras-applications/vgg16/vgg16_weights_tf_dim_ordering_tf_kernels.h5\n",
            "553467096/553467096 [==============================] - 29s 0us/step\n",
            "Model: \"model\"\n",
            "_________________________________________________________________\n",
            " Layer (type)                Output Shape              Param #   \n",
            "=================================================================\n",
            " input_1 (InputLayer)        [(None, 224, 224, 3)]     0         \n",
            "                                                                 \n",
            " block1_conv1 (Conv2D)       (None, 224, 224, 64)      1792      \n",
            "                                                                 \n",
            " block1_conv2 (Conv2D)       (None, 224, 224, 64)      36928     \n",
            "                                                                 \n",
            " block1_pool (MaxPooling2D)  (None, 112, 112, 64)      0         \n",
            "                                                                 \n",
            " block2_conv1 (Conv2D)       (None, 112, 112, 128)     73856     \n",
            "                                                                 \n",
            " block2_conv2 (Conv2D)       (None, 112, 112, 128)     147584    \n",
            "                                                                 \n",
            " block2_pool (MaxPooling2D)  (None, 56, 56, 128)       0         \n",
            "                                                                 \n",
            " block3_conv1 (Conv2D)       (None, 56, 56, 256)       295168    \n",
            "                                                                 \n",
            " block3_conv2 (Conv2D)       (None, 56, 56, 256)       590080    \n",
            "                                                                 \n",
            " block3_conv3 (Conv2D)       (None, 56, 56, 256)       590080    \n",
            "                                                                 \n",
            " block3_pool (MaxPooling2D)  (None, 28, 28, 256)       0         \n",
            "                                                                 \n",
            " block4_conv1 (Conv2D)       (None, 28, 28, 512)       1180160   \n",
            "                                                                 \n",
            " block4_conv2 (Conv2D)       (None, 28, 28, 512)       2359808   \n",
            "                                                                 \n",
            " block4_conv3 (Conv2D)       (None, 28, 28, 512)       2359808   \n",
            "                                                                 \n",
            " block4_pool (MaxPooling2D)  (None, 14, 14, 512)       0         \n",
            "                                                                 \n",
            " block5_conv1 (Conv2D)       (None, 14, 14, 512)       2359808   \n",
            "                                                                 \n",
            " block5_conv2 (Conv2D)       (None, 14, 14, 512)       2359808   \n",
            "                                                                 \n",
            " block5_conv3 (Conv2D)       (None, 14, 14, 512)       2359808   \n",
            "                                                                 \n",
            " block5_pool (MaxPooling2D)  (None, 7, 7, 512)         0         \n",
            "                                                                 \n",
            " flatten (Flatten)           (None, 25088)             0         \n",
            "                                                                 \n",
            " fc1 (Dense)                 (None, 4096)              102764544 \n",
            "                                                                 \n",
            " fc2 (Dense)                 (None, 4096)              16781312  \n",
            "                                                                 \n",
            "=================================================================\n",
            "Total params: 134,260,544\n",
            "Trainable params: 134,260,544\n",
            "Non-trainable params: 0\n",
            "_________________________________________________________________\n",
            "None\n"
          ]
        }
      ]
    },
    {
      "cell_type": "code",
      "source": [
        "# extract features from image\n",
        "features = {}\n",
        "directory = os.path.join(BASE_DIR, 'imgs')\n",
        "\n",
        "for img_name in tqdm(os.listdir(directory)):\n",
        "    # load the image from file\n",
        "    img_path = directory + '/' + img_name\n",
        "    image = load_img(img_path, target_size=(224, 224))\n",
        "    # convert image pixels to numpy array\n",
        "    image = img_to_array(image)\n",
        "    # reshape data for model\n",
        "    image = image.reshape((1, image.shape[0], image.shape[1], image.shape[2]))\n",
        "    # preprocess image for vgg\n",
        "    image = preprocess_input(image)\n",
        "    # extract features\n",
        "    feature = model.predict(image, verbose=0)\n",
        "    # get image ID\n",
        "    image_id = img_name.split('.')[0]\n",
        "    # store feature\n",
        "    features[image_id] = feature"
      ],
      "metadata": {
        "colab": {
          "base_uri": "https://localhost:8080/",
          "height": 49,
          "referenced_widgets": [
            "49a85bad79694e1aa8ccfaa87cc9598c",
            "1a8d1121fc794fa9babb05cbe75a21b1",
            "41fdb9702d824a0dac6a607d047931d6",
            "76e7e4c891f24707be2f7b3dda6af3a1",
            "e8a37b897aac49aa86d1d9a3d39b3c10",
            "54932305682a4c3c8812dbbe6a2a224d",
            "a55c7ebbf3ca4e8e96bc8edeb3c12135",
            "cc07e81aede1454798f477bbbb405c31",
            "f2215b980fbe438f820a0aa790d48bfd",
            "ff783f4ccd5446d49377b752c1977de3",
            "33063a519b884bd7b9d59dbf4cc86645"
          ]
        },
        "id": "HKnh8KWdOfZL",
        "outputId": "9d43f867-1f77-4198-f10b-5440e1da61d7"
      },
      "execution_count": null,
      "outputs": [
        {
          "output_type": "display_data",
          "data": {
            "text/plain": [
              "  0%|          | 0/2100 [00:00<?, ?it/s]"
            ],
            "application/vnd.jupyter.widget-view+json": {
              "version_major": 2,
              "version_minor": 0,
              "model_id": "49a85bad79694e1aa8ccfaa87cc9598c"
            }
          },
          "metadata": {}
        }
      ]
    },
    {
      "cell_type": "code",
      "source": [
        "# store features in pickle\n",
        "pickle.dump(features, open(os.path.join(WORKING_DIR, 'featuresVGG16.pkl'), 'wb'))"
      ],
      "metadata": {
        "id": "EHJU8MEHOiGj"
      },
      "execution_count": null,
      "outputs": []
    },
    {
      "cell_type": "code",
      "source": [
        "# load features from pickle\n",
        "with open(os.path.join(WORKING_DIR, 'features.pkl'), 'rb') as f:\n",
        "    features = pickle.load(f)"
      ],
      "metadata": {
        "id": "F1gWXW5hOk-J"
      },
      "execution_count": null,
      "outputs": []
    },
    {
      "cell_type": "code",
      "source": [
        "import json\n",
        "with open(os.path.join(BASE_DIR, 'dataset.json'), 'r') as f:\n",
        "    #next(f)\n",
        "    captions_doc = json.load(f)\n",
        "    #captions_doc = f.read()"
      ],
      "metadata": {
        "id": "KG9pqS2BOnfW"
      },
      "execution_count": null,
      "outputs": []
    },
    {
      "cell_type": "code",
      "source": [
        "captions_str = str(captions_doc)\n",
        "captions_list = captions_str.split('\\n')"
      ],
      "metadata": {
        "id": "JS-OwiJ2Ormh"
      },
      "execution_count": null,
      "outputs": []
    },
    {
      "cell_type": "code",
      "source": [
        "# create mapping of image to captions\n",
        "mapping = {}\n",
        "# process lines\n",
        "for i in range(2100):\n",
        "  for j in range(5):\n",
        "    image_id = captions_doc['images'][i]['filename']\n",
        "    caption = captions_doc['images'][i]['sentences'][j]['raw']\n",
        "    image_id = image_id.split('.')[0]\n",
        "    if image_id not in mapping:\n",
        "      mapping[image_id] = []\n",
        "    mapping[image_id].append(caption)"
      ],
      "metadata": {
        "id": "9Bwbey8eOv-q"
      },
      "execution_count": null,
      "outputs": []
    },
    {
      "cell_type": "code",
      "source": [
        "def clean(mapping):\n",
        "    for key, captions in mapping.items():\n",
        "        for i in range(len(captions)):\n",
        "            # take one caption at a time\n",
        "            caption = captions[i]\n",
        "            # preprocessing steps\n",
        "            # convert to lowercase\n",
        "            caption = caption.lower()\n",
        "            # delete digits, special chars, etc.,\n",
        "            caption = caption.replace('[^A-Za-z]', '')\n",
        "            # delete additional spaces\n",
        "            caption = caption.replace('\\s+', ' ')\n",
        "            # add start and end tags to the caption\n",
        "\n",
        "            caption = 'startseq ' + \" \".join([word for word in caption.split() if len(word)>1]) + ' endseq'\n",
        "            captions[i] = caption"
      ],
      "metadata": {
        "id": "CanuOmoXOx8F"
      },
      "execution_count": null,
      "outputs": []
    },
    {
      "cell_type": "code",
      "source": [
        "# before preprocess of text\n",
        "mapping['1']"
      ],
      "metadata": {
        "colab": {
          "base_uri": "https://localhost:8080/"
        },
        "id": "nGHVdmw1Oz8r",
        "outputId": "9b71cddd-2078-49ac-fbd4-4bd4e3e8ea8d"
      },
      "execution_count": null,
      "outputs": [
        {
          "output_type": "execute_result",
          "data": {
            "text/plain": [
              "['There is a piece of farmland .',\n",
              " 'There is a piece of cropland .',\n",
              " 'It is a piece of farmland .',\n",
              " 'It is a piece of cropland .',\n",
              " 'Here is a piece of farmland .']"
            ]
          },
          "metadata": {},
          "execution_count": 11
        }
      ]
    },
    {
      "cell_type": "code",
      "source": [
        "# preprocess the text\n",
        "clean(mapping)"
      ],
      "metadata": {
        "id": "orrqVE0EO2X7"
      },
      "execution_count": null,
      "outputs": []
    },
    {
      "cell_type": "code",
      "source": [
        "# after preprocess of text\n",
        "mapping['1']"
      ],
      "metadata": {
        "colab": {
          "base_uri": "https://localhost:8080/"
        },
        "id": "GZyO56K7O4cl",
        "outputId": "4bb189c3-7331-44f4-945e-6888dcc82f01"
      },
      "execution_count": null,
      "outputs": [
        {
          "output_type": "execute_result",
          "data": {
            "text/plain": [
              "['startseq there is piece of farmland endseq',\n",
              " 'startseq there is piece of cropland endseq',\n",
              " 'startseq it is piece of farmland endseq',\n",
              " 'startseq it is piece of cropland endseq',\n",
              " 'startseq here is piece of farmland endseq']"
            ]
          },
          "metadata": {},
          "execution_count": 13
        }
      ]
    },
    {
      "cell_type": "code",
      "source": [
        "all_captions = []\n",
        "for key in mapping:\n",
        "    for caption in mapping[key]:\n",
        "        all_captions.append(caption)"
      ],
      "metadata": {
        "id": "pPBMhcqVO7rC"
      },
      "execution_count": null,
      "outputs": []
    },
    {
      "cell_type": "code",
      "source": [
        "all_captions[:10]"
      ],
      "metadata": {
        "colab": {
          "base_uri": "https://localhost:8080/"
        },
        "id": "B9saUuaNO9IZ",
        "outputId": "869a494a-05bc-45e7-ea7e-58412d9417f7"
      },
      "execution_count": null,
      "outputs": [
        {
          "output_type": "execute_result",
          "data": {
            "text/plain": [
              "['startseq there is piece of farmland endseq',\n",
              " 'startseq there is piece of cropland endseq',\n",
              " 'startseq it is piece of farmland endseq',\n",
              " 'startseq it is piece of cropland endseq',\n",
              " 'startseq here is piece of farmland endseq',\n",
              " 'startseq there is piece of farmland endseq',\n",
              " 'startseq there is piece of cropland endseq',\n",
              " 'startseq it is piece of farmland endseq',\n",
              " 'startseq it is piece of cropland endseq',\n",
              " 'startseq here is piece of farmland endseq']"
            ]
          },
          "metadata": {},
          "execution_count": 15
        }
      ]
    },
    {
      "cell_type": "code",
      "source": [
        "# tokenize the text\n",
        "tokenizer = Tokenizer()\n",
        "tokenizer.fit_on_texts(all_captions)\n",
        "vocab_size = len(tokenizer.word_index) + 1"
      ],
      "metadata": {
        "id": "GI-wWV23O-m7"
      },
      "execution_count": null,
      "outputs": []
    },
    {
      "cell_type": "code",
      "source": [
        "# get maximum length of the caption available\n",
        "max_length = max(len(caption.split()) for caption in all_captions)\n",
        "max_length"
      ],
      "metadata": {
        "colab": {
          "base_uri": "https://localhost:8080/"
        },
        "id": "t9MazwlbPAZ5",
        "outputId": "adb73192-e626-4717-f1ce-6958d95fc8e2"
      },
      "execution_count": null,
      "outputs": [
        {
          "output_type": "execute_result",
          "data": {
            "text/plain": [
              "23"
            ]
          },
          "metadata": {},
          "execution_count": 17
        }
      ]
    },
    {
      "cell_type": "code",
      "source": [
        "trainim = list()\n",
        "testim = list()\n",
        "for i in range(2100):\n",
        "  trainortest = captions_doc['images'][i]['split']\n",
        "  if(trainortest == \"test\"):\n",
        "    testim.append(i+1)\n",
        "  else:\n",
        "    trainim.append(i+1)"
      ],
      "metadata": {
        "id": "liZiziH9PRaa"
      },
      "execution_count": null,
      "outputs": []
    },
    {
      "cell_type": "code",
      "source": [
        "trainim = list(map(str, trainim))"
      ],
      "metadata": {
        "id": "NBoyk20iZ_I_"
      },
      "execution_count": null,
      "outputs": []
    },
    {
      "cell_type": "code",
      "source": [
        "testim = list(map(str, testim))"
      ],
      "metadata": {
        "id": "KrhtoPEIaBVG"
      },
      "execution_count": null,
      "outputs": []
    },
    {
      "cell_type": "code",
      "source": [
        "from sklearn.model_selection import train_test_split\n",
        "train2, val2 = train_test_split(trainim, test_size=2/9, random_state=42)"
      ],
      "metadata": {
        "id": "jZubOKKMaDK9"
      },
      "execution_count": null,
      "outputs": []
    },
    {
      "cell_type": "code",
      "source": [
        "len(train2)"
      ],
      "metadata": {
        "colab": {
          "base_uri": "https://localhost:8080/"
        },
        "id": "1iBIyNGqaFhp",
        "outputId": "56d48202-a9f4-4102-a615-e0fc5986455f"
      },
      "execution_count": null,
      "outputs": [
        {
          "output_type": "execute_result",
          "data": {
            "text/plain": [
              "1470"
            ]
          },
          "metadata": {},
          "execution_count": 22
        }
      ]
    },
    {
      "cell_type": "code",
      "source": [
        "len(val2)"
      ],
      "metadata": {
        "colab": {
          "base_uri": "https://localhost:8080/"
        },
        "id": "iqbndnD5aG_K",
        "outputId": "78a03005-aae4-4eb0-981b-569b3e431314"
      },
      "execution_count": null,
      "outputs": [
        {
          "output_type": "execute_result",
          "data": {
            "text/plain": [
              "420"
            ]
          },
          "metadata": {},
          "execution_count": 23
        }
      ]
    },
    {
      "cell_type": "code",
      "source": [
        "# startseq girl going into wooden building endseq\n",
        "#        X                   y\n",
        "# startseq                   girl\n",
        "# startseq girl              going\n",
        "# startseq girl going        into\n",
        "# ...........\n",
        "# startseq girl going into wooden building      endseq"
      ],
      "metadata": {
        "id": "8TdgCVQ3PTWx"
      },
      "execution_count": null,
      "outputs": []
    },
    {
      "cell_type": "code",
      "source": [
        "# create data generator to get data in batch (avoids session crash)\n",
        "def data_generator(data_keys, mapping, features, tokenizer, max_length, vocab_size, batch_size):\n",
        "    # loop over images\n",
        "    X1, X2, y = list(), list(), list()\n",
        "    n = 0\n",
        "    while 1:\n",
        "        for key in data_keys:\n",
        "            n += 1\n",
        "            captions = mapping[key]\n",
        "            # process each caption\n",
        "            for caption in captions:\n",
        "                # encode the sequence\n",
        "                seq = tokenizer.texts_to_sequences([caption])[0]\n",
        "                # split the sequence into X, y pairs\n",
        "                for i in range(1, len(seq)):\n",
        "                    # split into input and output pairs\n",
        "                    in_seq, out_seq = seq[:i], seq[i]\n",
        "                    # pad input sequence\n",
        "                    in_seq = pad_sequences([in_seq], maxlen=max_length)[0]\n",
        "                    # encode output sequence\n",
        "                    out_seq = to_categorical([out_seq], num_classes=vocab_size)[0]\n",
        "\n",
        "                    # store the sequences\n",
        "                    X1.append(features[key][0])\n",
        "                    X2.append(in_seq)\n",
        "                    y.append(out_seq)\n",
        "            if n == batch_size:\n",
        "                X1, X2, y = np.array(X1), np.array(X2), np.array(y)\n",
        "                yield [X1, X2], y\n",
        "                X1, X2, y = list(), list(), list()\n",
        "                n = 0"
      ],
      "metadata": {
        "id": "T3LaRvKHPT3j"
      },
      "execution_count": null,
      "outputs": []
    },
    {
      "cell_type": "code",
      "source": [
        "from tensorflow.keras.layers import Concatenate, TimeDistributed, Flatten, RepeatVector, Attention\n",
        "from keras.layers import SimpleRNN\n",
        "from tensorflow.keras.optimizers import Adam\n",
        "\n",
        "# encoder model\n",
        "# image feature layers\n",
        "inputs1 = Input(shape=(4096,))\n",
        "fe1 = Dropout(0.4)(inputs1)\n",
        "fe2 = Dense(256, activation='relu')(fe1)\n",
        "# sequence feature layers\n",
        "inputs2 = Input(shape=(max_length,))\n",
        "se1 = Embedding(vocab_size, 256, mask_zero=True)(inputs2)\n",
        "se2 = Dropout(0.4)(se1)\n",
        "se3 = SimpleRNN(256)(se2)\n",
        "\n",
        "\n",
        "# Use RepeatVector to match the dimensions for concatenation\n",
        "fe2_repeat = RepeatVector(max_length)(fe2)\n",
        "se3_repeat = RepeatVector(max_length)(se3)\n",
        "\n",
        "# Concatenate fe2 and se3\n",
        "concat = Concatenate()([fe2_repeat, se3_repeat])\n",
        "\n",
        "# Now the shape of concat is (None, 23, 2*256), we need to reduce the last dimension to 256\n",
        "reduced_concat = TimeDistributed(Dense(256))(concat)\n",
        "\n",
        "# Apply attention\n",
        "attn_out = Attention()([reduced_concat, se3_repeat])\n",
        "\n",
        "# Flatten the output to have shape (None, 256)\n",
        "attn_out_flat = Flatten()(attn_out)\n",
        "\n",
        "# Concatenate fe2 with the attention output\n",
        "decoder1 = Concatenate()([fe2, attn_out_flat])\n",
        "\n",
        "# Now pass decoder1 through the rest of the network\n",
        "\n",
        "# Updated decoder model with Attention\n",
        "decoder2 = Dense(256, activation='relu')(decoder1)\n",
        "outputs = Dense(vocab_size, activation='softmax')(decoder2)\n",
        "\n",
        "optimizer = Adam(learning_rate=0.0001)\n",
        "\n",
        "model = Model(inputs=[inputs1, inputs2], outputs=outputs)\n",
        "model.compile(loss='categorical_crossentropy', optimizer=optimizer)\n",
        "\n",
        "# plot the model\n",
        "plot_model(model, show_shapes=True)"
      ],
      "metadata": {
        "colab": {
          "base_uri": "https://localhost:8080/",
          "height": 1000
        },
        "id": "7d3-Mu0jPVfm",
        "outputId": "446e78b8-0bb4-4666-e429-ac96cb1a9792"
      },
      "execution_count": null,
      "outputs": [
        {
          "output_type": "execute_result",
          "data": {
            "image/png": "[encoded data removed]",
            "text/plain": [
              "<IPython.core.display.Image object>"
            ]
          },
          "metadata": {},
          "execution_count": 25
        }
      ]
    },
    {
      "cell_type": "code",
      "source": [
        "    epochs = 64\n",
        "    batch_size = 128\n",
        "    steps = len(train2) // batch_size\n",
        "    #steps = 12\n",
        "\n",
        "    for i in range(epochs):\n",
        "        # create data generator\n",
        "        generator = data_generator(train2, mapping, features, tokenizer, max_length, vocab_size, batch_size)\n",
        "        #generator2 = data_generator(test, mapping, features, tokenizer, max_length, vocab_size, batch_size)\n",
        "        generator3 = data_generator(val2, mapping, features, tokenizer, max_length, vocab_size, batch_size)\n",
        "\n",
        "        # fit for one epoch\n",
        "        model.fit(generator, epochs=1, steps_per_epoch=steps, verbose=1, validation_steps=steps, validation_data=generator3)"
      ],
      "metadata": {
        "colab": {
          "base_uri": "https://localhost:8080/"
        },
        "id": "Jupl2FI0PXUz",
        "outputId": "47dccc84-1114-43d0-d646-2271f5e13453"
      },
      "execution_count": null,
      "outputs": [
        {
          "output_type": "stream",
          "name": "stdout",
          "text": [
            "11/11 [==============================] - 15s 633ms/step - loss: 5.6190 - val_loss: 5.2810\n",
            "11/11 [==============================] - 7s 647ms/step - loss: 4.9961 - val_loss: 4.7117\n",
            "11/11 [==============================] - 7s 642ms/step - loss: 4.4535 - val_loss: 4.2161\n",
            "11/11 [==============================] - 6s 635ms/step - loss: 3.9778 - val_loss: 3.7817\n",
            "11/11 [==============================] - 6s 632ms/step - loss: 3.5523 - val_loss: 3.3646\n",
            "11/11 [==============================] - 7s 639ms/step - loss: 3.1541 - val_loss: 2.9929\n",
            "11/11 [==============================] - 7s 652ms/step - loss: 2.7937 - val_loss: 2.6517\n",
            "11/11 [==============================] - 7s 641ms/step - loss: 2.4761 - val_loss: 2.3536\n",
            "11/11 [==============================] - 6s 634ms/step - loss: 2.1994 - val_loss: 2.1060\n",
            "11/11 [==============================] - 7s 638ms/step - loss: 1.9705 - val_loss: 1.9031\n",
            "11/11 [==============================] - 6s 630ms/step - loss: 1.7839 - val_loss: 1.7372\n",
            "11/11 [==============================] - 7s 637ms/step - loss: 1.6259 - val_loss: 1.6000\n",
            "11/11 [==============================] - 7s 636ms/step - loss: 1.4933 - val_loss: 1.4861\n",
            "11/11 [==============================] - 7s 640ms/step - loss: 1.3808 - val_loss: 1.3905\n",
            "11/11 [==============================] - 7s 651ms/step - loss: 1.2904 - val_loss: 1.3106\n",
            "11/11 [==============================] - 7s 639ms/step - loss: 1.2086 - val_loss: 1.2417\n",
            "11/11 [==============================] - 6s 621ms/step - loss: 1.1414 - val_loss: 1.1830\n",
            "11/11 [==============================] - 7s 639ms/step - loss: 1.0812 - val_loss: 1.1318\n",
            "11/11 [==============================] - 6s 630ms/step - loss: 1.0283 - val_loss: 1.0870\n",
            "11/11 [==============================] - 6s 634ms/step - loss: 0.9824 - val_loss: 1.0479\n",
            "11/11 [==============================] - 7s 635ms/step - loss: 0.9417 - val_loss: 1.0129\n",
            "11/11 [==============================] - 6s 630ms/step - loss: 0.9043 - val_loss: 0.9836\n",
            "11/11 [==============================] - 7s 642ms/step - loss: 0.8733 - val_loss: 0.9545\n",
            "11/11 [==============================] - 6s 630ms/step - loss: 0.8429 - val_loss: 0.9303\n",
            "11/11 [==============================] - 6s 632ms/step - loss: 0.8130 - val_loss: 0.9053\n",
            "11/11 [==============================] - 7s 638ms/step - loss: 0.7875 - val_loss: 0.8855\n",
            "11/11 [==============================] - 7s 645ms/step - loss: 0.7662 - val_loss: 0.8666\n",
            "11/11 [==============================] - 7s 640ms/step - loss: 0.7445 - val_loss: 0.8494\n",
            "11/11 [==============================] - 6s 633ms/step - loss: 0.7237 - val_loss: 0.8324\n",
            "11/11 [==============================] - 6s 633ms/step - loss: 0.7054 - val_loss: 0.8201\n",
            "11/11 [==============================] - 7s 639ms/step - loss: 0.6878 - val_loss: 0.8058\n",
            "11/11 [==============================] - 7s 640ms/step - loss: 0.6730 - val_loss: 0.7935\n",
            "11/11 [==============================] - 6s 630ms/step - loss: 0.6582 - val_loss: 0.7816\n",
            "11/11 [==============================] - 7s 640ms/step - loss: 0.6424 - val_loss: 0.7689\n",
            "11/11 [==============================] - 6s 635ms/step - loss: 0.6290 - val_loss: 0.7603\n",
            "11/11 [==============================] - 7s 641ms/step - loss: 0.6174 - val_loss: 0.7513\n",
            "11/11 [==============================] - 7s 636ms/step - loss: 0.6060 - val_loss: 0.7425\n",
            "11/11 [==============================] - 6s 633ms/step - loss: 0.5957 - val_loss: 0.7334\n",
            "11/11 [==============================] - 7s 641ms/step - loss: 0.5835 - val_loss: 0.7262\n",
            "11/11 [==============================] - 7s 639ms/step - loss: 0.5752 - val_loss: 0.7182\n",
            "11/11 [==============================] - 7s 641ms/step - loss: 0.5642 - val_loss: 0.7127\n",
            "11/11 [==============================] - 7s 637ms/step - loss: 0.5553 - val_loss: 0.7054\n",
            "11/11 [==============================] - 7s 649ms/step - loss: 0.5481 - val_loss: 0.7002\n",
            "11/11 [==============================] - 6s 634ms/step - loss: 0.5385 - val_loss: 0.6952\n",
            "11/11 [==============================] - 7s 659ms/step - loss: 0.5298 - val_loss: 0.6885\n",
            "11/11 [==============================] - 7s 652ms/step - loss: 0.5222 - val_loss: 0.6836\n",
            "11/11 [==============================] - 6s 634ms/step - loss: 0.5179 - val_loss: 0.6788\n",
            "11/11 [==============================] - 7s 641ms/step - loss: 0.5077 - val_loss: 0.6745\n",
            "11/11 [==============================] - 7s 640ms/step - loss: 0.5023 - val_loss: 0.6701\n",
            "11/11 [==============================] - 6s 630ms/step - loss: 0.4967 - val_loss: 0.6659\n",
            "11/11 [==============================] - 6s 634ms/step - loss: 0.4885 - val_loss: 0.6625\n",
            "11/11 [==============================] - 7s 643ms/step - loss: 0.4841 - val_loss: 0.6603\n",
            "11/11 [==============================] - 7s 651ms/step - loss: 0.4774 - val_loss: 0.6555\n",
            "11/11 [==============================] - 6s 634ms/step - loss: 0.4702 - val_loss: 0.6538\n",
            "11/11 [==============================] - 7s 645ms/step - loss: 0.4665 - val_loss: 0.6494\n",
            "11/11 [==============================] - 7s 637ms/step - loss: 0.4623 - val_loss: 0.6477\n",
            "11/11 [==============================] - 7s 641ms/step - loss: 0.4558 - val_loss: 0.6446\n",
            "11/11 [==============================] - 7s 668ms/step - loss: 0.4511 - val_loss: 0.6416\n",
            "11/11 [==============================] - 7s 640ms/step - loss: 0.4484 - val_loss: 0.6392\n",
            "11/11 [==============================] - 6s 633ms/step - loss: 0.4430 - val_loss: 0.6372\n",
            "11/11 [==============================] - 6s 627ms/step - loss: 0.4369 - val_loss: 0.6350\n",
            "11/11 [==============================] - 6s 633ms/step - loss: 0.4309 - val_loss: 0.6331\n",
            "11/11 [==============================] - 7s 639ms/step - loss: 0.4292 - val_loss: 0.6326\n",
            "11/11 [==============================] - 7s 654ms/step - loss: 0.4258 - val_loss: 0.6287\n"
          ]
        }
      ]
    },
    {
      "cell_type": "code",
      "source": [
        "# save the model\n",
        "model.save(WORKING_DIR+'/VGG-RNN-DM-e64b128.h5')\n",
        "#model = keras.models.load_model(WORKING_DIR+'/LSTMe64b128.h5')"
      ],
      "metadata": {
        "id": "KbeKFjdEPhjO"
      },
      "execution_count": null,
      "outputs": []
    },
    {
      "cell_type": "code",
      "source": [
        "def idx_to_word(integer, tokenizer):\n",
        "    for word, index in tokenizer.word_index.items():\n",
        "        if index == integer:\n",
        "            return word\n",
        "    return None"
      ],
      "metadata": {
        "id": "lNUEboqkPnoX"
      },
      "execution_count": null,
      "outputs": []
    },
    {
      "cell_type": "code",
      "source": [
        "# generate caption for an image\n",
        "def predict_caption(model, image, tokenizer, max_length):\n",
        "    # add start tag for generation process\n",
        "    in_text = 'startseq'\n",
        "    # iterate over the max length of sequence\n",
        "    for i in range(max_length):\n",
        "        # encode input sequence\n",
        "        sequence = tokenizer.texts_to_sequences([in_text])[0]\n",
        "        # pad the sequence\n",
        "        sequence = pad_sequences([sequence], max_length)\n",
        "        # predict next word\n",
        "        yhat = model.predict([image, sequence], verbose=0)\n",
        "        # get index with high probability\n",
        "        yhat = np.argmax(yhat)\n",
        "        # convert index to word\n",
        "        word = idx_to_word(yhat, tokenizer)\n",
        "        # stop if word not found\n",
        "        if word is None:\n",
        "            break\n",
        "        # append word as input for generating next word\n",
        "        in_text += \" \" + word\n",
        "        # stop if we reach end tag\n",
        "        if word == 'endseq':\n",
        "            break\n",
        "\n",
        "    return in_text"
      ],
      "metadata": {
        "id": "drNZHQogPoQi"
      },
      "execution_count": null,
      "outputs": []
    },
    {
      "cell_type": "code",
      "source": [
        "import nltk\n",
        "from nltk.translate.bleu_score import corpus_bleu\n",
        "# validate with test data\n",
        "actual, predicted = [], []\n",
        "\n",
        "for key in tqdm(testim):#test\n",
        "    # get actual caption\n",
        "    captions = mapping[key]\n",
        "    # predict the caption for image\n",
        "    y_pred = predict_caption(model, features[key], tokenizer, max_length)\n",
        "    # split into words\n",
        "    actual_captions = [caption.split() for caption in captions]\n",
        "    y_pred = y_pred.split()\n",
        "    # append to the list\n",
        "    actual.append(actual_captions)\n",
        "    predicted.append(y_pred)"
      ],
      "metadata": {
        "id": "5RutqVCgPsvj",
        "colab": {
          "base_uri": "https://localhost:8080/",
          "height": 49,
          "referenced_widgets": [
            "91eae3a63cec4fa5909d169cde084010",
            "662cc2773e6b40c09da76bd056f366c4",
            "e6fa969ceb9148e48e41786939528e69",
            "d5f43155060f40eb81ad39de3318dd7e",
            "598e9a5796264864a7d906037527f0c6",
            "a1bffa7e4a5f4556891a67e8e15b1e9d",
            "85afde452bd84361ae07b2df540bd52a",
            "0a05a940d1a24a1c98948455091dc378",
            "76b47a84e67645a29c64d9b1b72869b3",
            "8473b69af573417c8798bd8edfecc718",
            "f592923b90614a088e51dcff6b68dd2d"
          ]
        },
        "outputId": "6894f4f0-9e22-4cf0-9156-0201dfb7c512"
      },
      "execution_count": null,
      "outputs": [
        {
          "output_type": "display_data",
          "data": {
            "text/plain": [
              "  0%|          | 0/210 [00:00<?, ?it/s]"
            ],
            "application/vnd.jupyter.widget-view+json": {
              "version_major": 2,
              "version_minor": 0,
              "model_id": "91eae3a63cec4fa5909d169cde084010"
            }
          },
          "metadata": {}
        }
      ]
    },
    {
      "cell_type": "code",
      "source": [
        "# calcuate BLEU score\n",
        "print(\"BLEU-1: %f\" % corpus_bleu(actual, predicted, weights=(1.0, 0, 0, 0)))\n",
        "print(\"BLEU-2: %f\" % corpus_bleu(actual, predicted, weights=(0.5, 0.5, 0, 0)))\n",
        "print(\"BLEU-3: %f\" % corpus_bleu(actual, predicted, weights=(0.33, 0.33, 0.33, 0)))\n",
        "print(\"BLEU-4: %f\" % corpus_bleu(actual, predicted, weights=(0.25, 0.25, 0.25, 0.25)))"
      ],
      "metadata": {
        "id": "vSWBY2_APu3u",
        "colab": {
          "base_uri": "https://localhost:8080/"
        },
        "outputId": "0835d9ac-48bf-4b2e-cdb9-0cdfa8016e8d"
      },
      "execution_count": null,
      "outputs": [
        {
          "output_type": "stream",
          "name": "stdout",
          "text": [
            "BLEU-1: 0.805821\n",
            "BLEU-2: 0.722590\n",
            "BLEU-3: 0.665082\n",
            "BLEU-4: 0.609683\n"
          ]
        }
      ]
    },
    {
      "cell_type": "code",
      "source": [
        "import nltk\n",
        "nltk.download('wordnet')"
      ],
      "metadata": {
        "id": "48QHgRVYP13w",
        "colab": {
          "base_uri": "https://localhost:8080/"
        },
        "outputId": "22f41766-e482-4743-fc68-1921b82009cc"
      },
      "execution_count": null,
      "outputs": [
        {
          "output_type": "stream",
          "name": "stderr",
          "text": [
            "[nltk_data] Downloading package wordnet to /root/nltk_data...\n"
          ]
        },
        {
          "output_type": "execute_result",
          "data": {
            "text/plain": [
              "True"
            ]
          },
          "metadata": {},
          "execution_count": 32
        }
      ]
    },
    {
      "cell_type": "code",
      "source": [
        "from nltk.translate.meteor_score import single_meteor_score\n",
        "\n",
        "toplam=0\n",
        "for i in range(0, len(actual)):\n",
        "  score1 = single_meteor_score(actual[i][2][1:-1],predicted[i][1:-1])\n",
        "  toplam = score1 + toplam\n",
        "\n",
        "toplam"
      ],
      "metadata": {
        "id": "BewF9GJOPyND",
        "colab": {
          "base_uri": "https://localhost:8080/"
        },
        "outputId": "7fc39561-d18a-4696-d535-511d15017b8b"
      },
      "execution_count": null,
      "outputs": [
        {
          "output_type": "execute_result",
          "data": {
            "text/plain": [
              "107.71791344611466"
            ]
          },
          "metadata": {},
          "execution_count": 33
        }
      ]
    },
    {
      "cell_type": "code",
      "source": [
        "toplam/len(actual)"
      ],
      "metadata": {
        "id": "nDDOMZKxP8tQ",
        "colab": {
          "base_uri": "https://localhost:8080/"
        },
        "outputId": "9b48d447-507b-4f0f-8744-a9e70d7742e2"
      },
      "execution_count": null,
      "outputs": [
        {
          "output_type": "execute_result",
          "data": {
            "text/plain": [
              "0.5129424449814984"
            ]
          },
          "metadata": {},
          "execution_count": 34
        }
      ]
    },
    {
      "cell_type": "code",
      "source": [
        "from PIL import Image\n",
        "import matplotlib.pyplot as plt\n",
        "def generate_caption(image_name):\n",
        "    # load the image\n",
        "    # image_name = \"1001773457_577c3a7d70.jpg\"\n",
        "    image_id = image_name.split('.')[0]\n",
        "    img_path = os.path.join(BASE_DIR, \"imgs\", image_name)\n",
        "    image = Image.open(img_path)\n",
        "    captions = mapping[image_id]\n",
        "    print('---------------------Actual---------------------')\n",
        "    for caption in captions:\n",
        "        print(caption)\n",
        "    # predict the caption\n",
        "    y_pred = predict_caption(model, features[image_id], tokenizer, max_length)\n",
        "    print('--------------------Predicted--------------------')\n",
        "    print(y_pred)\n",
        "    plt.imshow(image)"
      ],
      "metadata": {
        "id": "TPIZfi3zP-Ug"
      },
      "execution_count": null,
      "outputs": []
    },
    {
      "cell_type": "code",
      "source": [
        "generate_caption(\"22.tif\")"
      ],
      "metadata": {
        "id": "-xi_vW_kZNTF"
      },
      "execution_count": null,
      "outputs": []
    }
  ]
}